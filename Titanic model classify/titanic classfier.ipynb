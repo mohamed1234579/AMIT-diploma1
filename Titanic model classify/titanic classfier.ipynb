{
 "cells": [
  {
   "cell_type": "code",
   "execution_count": 3,
   "metadata": {},
   "outputs": [],
   "source": [
    "import pandas as pd\n",
    "import numpy as np"
   ]
  },
  {
   "cell_type": "code",
   "execution_count": 4,
   "metadata": {},
   "outputs": [],
   "source": [
    "data=pd.read_csv('Titanic dataset.csv')"
   ]
  },
  {
   "cell_type": "code",
   "execution_count": 5,
   "metadata": {},
   "outputs": [
    {
     "data": {
      "text/plain": [
       "PassengerId      0\n",
       "Survived         0\n",
       "Pclass           0\n",
       "Name             0\n",
       "Sex              0\n",
       "Age            177\n",
       "SibSp            0\n",
       "Parch            0\n",
       "Ticket           0\n",
       "Fare             0\n",
       "Cabin          687\n",
       "Embarked         2\n",
       "dtype: int64"
      ]
     },
     "execution_count": 5,
     "metadata": {},
     "output_type": "execute_result"
    }
   ],
   "source": [
    "data.isna().sum()"
   ]
  },
  {
   "cell_type": "code",
   "execution_count": 6,
   "metadata": {},
   "outputs": [
    {
     "data": {
      "text/plain": [
       "PassengerId      0\n",
       "Survived         0\n",
       "Pclass           0\n",
       "Name             0\n",
       "Sex              0\n",
       "Age              0\n",
       "SibSp            0\n",
       "Parch            0\n",
       "Ticket           0\n",
       "Fare             0\n",
       "Cabin          687\n",
       "Embarked         0\n",
       "dtype: int64"
      ]
     },
     "execution_count": 6,
     "metadata": {},
     "output_type": "execute_result"
    }
   ],
   "source": [
    "data[\"Age\"].fillna(data[\"Age\"].median(skipna=True), inplace=True)\n",
    "data[\"Embarked\"].fillna(data['Embarked'].value_counts().idxmax(), inplace=True)\n",
    "data.isnull().sum()"
   ]
  },
  {
   "cell_type": "code",
   "execution_count": 7,
   "metadata": {},
   "outputs": [],
   "source": [
    "data['Sex'] = data['Sex'].map({'male':1,'female':0})\n",
    "data['Embarked'] = data['Embarked'].map({'S':1,'C':0,'Q':2})"
   ]
  },
  {
   "cell_type": "code",
   "execution_count": 8,
   "metadata": {},
   "outputs": [
    {
     "data": {
      "text/plain": [
       "0      1\n",
       "1      0\n",
       "2      0\n",
       "3      0\n",
       "4      1\n",
       "      ..\n",
       "886    1\n",
       "887    0\n",
       "888    0\n",
       "889    1\n",
       "890    1\n",
       "Name: Sex, Length: 891, dtype: int64"
      ]
     },
     "execution_count": 8,
     "metadata": {},
     "output_type": "execute_result"
    }
   ],
   "source": [
    "data['Sex']"
   ]
  },
  {
   "cell_type": "code",
   "execution_count": 9,
   "metadata": {},
   "outputs": [
    {
     "name": "stdout",
     "output_type": "stream",
     "text": [
      "<class 'pandas.core.frame.DataFrame'>\n",
      "RangeIndex: 891 entries, 0 to 890\n",
      "Data columns (total 12 columns):\n",
      " #   Column       Non-Null Count  Dtype  \n",
      "---  ------       --------------  -----  \n",
      " 0   PassengerId  891 non-null    int64  \n",
      " 1   Survived     891 non-null    int64  \n",
      " 2   Pclass       891 non-null    int64  \n",
      " 3   Name         891 non-null    object \n",
      " 4   Sex          891 non-null    int64  \n",
      " 5   Age          891 non-null    float64\n",
      " 6   SibSp        891 non-null    int64  \n",
      " 7   Parch        891 non-null    int64  \n",
      " 8   Ticket       891 non-null    object \n",
      " 9   Fare         891 non-null    float64\n",
      " 10  Cabin        204 non-null    object \n",
      " 11  Embarked     891 non-null    int64  \n",
      "dtypes: float64(2), int64(7), object(3)\n",
      "memory usage: 83.7+ KB\n"
     ]
    }
   ],
   "source": [
    "data.info()"
   ]
  },
  {
   "cell_type": "code",
   "execution_count": 10,
   "metadata": {},
   "outputs": [],
   "source": [
    "data.drop(['PassengerId','Name','Ticket','Cabin'],axis=1,inplace=True)"
   ]
  },
  {
   "cell_type": "code",
   "execution_count": 11,
   "metadata": {},
   "outputs": [
    {
     "name": "stdout",
     "output_type": "stream",
     "text": [
      "<class 'pandas.core.frame.DataFrame'>\n",
      "RangeIndex: 891 entries, 0 to 890\n",
      "Data columns (total 8 columns):\n",
      " #   Column    Non-Null Count  Dtype  \n",
      "---  ------    --------------  -----  \n",
      " 0   Survived  891 non-null    int64  \n",
      " 1   Pclass    891 non-null    int64  \n",
      " 2   Sex       891 non-null    int64  \n",
      " 3   Age       891 non-null    float64\n",
      " 4   SibSp     891 non-null    int64  \n",
      " 5   Parch     891 non-null    int64  \n",
      " 6   Fare      891 non-null    float64\n",
      " 7   Embarked  891 non-null    int64  \n",
      "dtypes: float64(2), int64(6)\n",
      "memory usage: 55.8 KB\n"
     ]
    }
   ],
   "source": [
    "data.info()"
   ]
  },
  {
   "cell_type": "code",
   "execution_count": 12,
   "metadata": {},
   "outputs": [],
   "source": [
    "x=data.drop('Survived',axis=1)\n",
    "y=data['Survived']"
   ]
  },
  {
   "cell_type": "code",
   "execution_count": 13,
   "metadata": {},
   "outputs": [],
   "source": [
    "from sklearn.model_selection import train_test_split\n",
    "x_train,x_test,y_train,y_test = train_test_split(x,y , test_size = 0.2, random_state = 42 )"
   ]
  },
  {
   "cell_type": "code",
   "execution_count": null,
   "metadata": {},
   "outputs": [],
   "source": []
  },
  {
   "cell_type": "code",
   "execution_count": 14,
   "metadata": {},
   "outputs": [
    {
     "name": "stderr",
     "output_type": "stream",
     "text": [
      "c:\\Users\\mohamed\\AI_env\\Lib\\site-packages\\sklearn\\linear_model\\_logistic.py:460: ConvergenceWarning: lbfgs failed to converge (status=1):\n",
      "STOP: TOTAL NO. of ITERATIONS REACHED LIMIT.\n",
      "\n",
      "Increase the number of iterations (max_iter) or scale the data as shown in:\n",
      "    https://scikit-learn.org/stable/modules/preprocessing.html\n",
      "Please also refer to the documentation for alternative solver options:\n",
      "    https://scikit-learn.org/stable/modules/linear_model.html#logistic-regression\n",
      "  n_iter_i = _check_optimize_result(\n"
     ]
    },
    {
     "data": {
      "text/html": [
       "<style>#sk-container-id-1 {color: black;}#sk-container-id-1 pre{padding: 0;}#sk-container-id-1 div.sk-toggleable {background-color: white;}#sk-container-id-1 label.sk-toggleable__label {cursor: pointer;display: block;width: 100%;margin-bottom: 0;padding: 0.3em;box-sizing: border-box;text-align: center;}#sk-container-id-1 label.sk-toggleable__label-arrow:before {content: \"▸\";float: left;margin-right: 0.25em;color: #696969;}#sk-container-id-1 label.sk-toggleable__label-arrow:hover:before {color: black;}#sk-container-id-1 div.sk-estimator:hover label.sk-toggleable__label-arrow:before {color: black;}#sk-container-id-1 div.sk-toggleable__content {max-height: 0;max-width: 0;overflow: hidden;text-align: left;background-color: #f0f8ff;}#sk-container-id-1 div.sk-toggleable__content pre {margin: 0.2em;color: black;border-radius: 0.25em;background-color: #f0f8ff;}#sk-container-id-1 input.sk-toggleable__control:checked~div.sk-toggleable__content {max-height: 200px;max-width: 100%;overflow: auto;}#sk-container-id-1 input.sk-toggleable__control:checked~label.sk-toggleable__label-arrow:before {content: \"▾\";}#sk-container-id-1 div.sk-estimator input.sk-toggleable__control:checked~label.sk-toggleable__label {background-color: #d4ebff;}#sk-container-id-1 div.sk-label input.sk-toggleable__control:checked~label.sk-toggleable__label {background-color: #d4ebff;}#sk-container-id-1 input.sk-hidden--visually {border: 0;clip: rect(1px 1px 1px 1px);clip: rect(1px, 1px, 1px, 1px);height: 1px;margin: -1px;overflow: hidden;padding: 0;position: absolute;width: 1px;}#sk-container-id-1 div.sk-estimator {font-family: monospace;background-color: #f0f8ff;border: 1px dotted black;border-radius: 0.25em;box-sizing: border-box;margin-bottom: 0.5em;}#sk-container-id-1 div.sk-estimator:hover {background-color: #d4ebff;}#sk-container-id-1 div.sk-parallel-item::after {content: \"\";width: 100%;border-bottom: 1px solid gray;flex-grow: 1;}#sk-container-id-1 div.sk-label:hover label.sk-toggleable__label {background-color: #d4ebff;}#sk-container-id-1 div.sk-serial::before {content: \"\";position: absolute;border-left: 1px solid gray;box-sizing: border-box;top: 0;bottom: 0;left: 50%;z-index: 0;}#sk-container-id-1 div.sk-serial {display: flex;flex-direction: column;align-items: center;background-color: white;padding-right: 0.2em;padding-left: 0.2em;position: relative;}#sk-container-id-1 div.sk-item {position: relative;z-index: 1;}#sk-container-id-1 div.sk-parallel {display: flex;align-items: stretch;justify-content: center;background-color: white;position: relative;}#sk-container-id-1 div.sk-item::before, #sk-container-id-1 div.sk-parallel-item::before {content: \"\";position: absolute;border-left: 1px solid gray;box-sizing: border-box;top: 0;bottom: 0;left: 50%;z-index: -1;}#sk-container-id-1 div.sk-parallel-item {display: flex;flex-direction: column;z-index: 1;position: relative;background-color: white;}#sk-container-id-1 div.sk-parallel-item:first-child::after {align-self: flex-end;width: 50%;}#sk-container-id-1 div.sk-parallel-item:last-child::after {align-self: flex-start;width: 50%;}#sk-container-id-1 div.sk-parallel-item:only-child::after {width: 0;}#sk-container-id-1 div.sk-dashed-wrapped {border: 1px dashed gray;margin: 0 0.4em 0.5em 0.4em;box-sizing: border-box;padding-bottom: 0.4em;background-color: white;}#sk-container-id-1 div.sk-label label {font-family: monospace;font-weight: bold;display: inline-block;line-height: 1.2em;}#sk-container-id-1 div.sk-label-container {text-align: center;}#sk-container-id-1 div.sk-container {/* jupyter's `normalize.less` sets `[hidden] { display: none; }` but bootstrap.min.css set `[hidden] { display: none !important; }` so we also need the `!important` here to be able to override the default hidden behavior on the sphinx rendered scikit-learn.org. See: https://github.com/scikit-learn/scikit-learn/issues/21755 */display: inline-block !important;position: relative;}#sk-container-id-1 div.sk-text-repr-fallback {display: none;}</style><div id=\"sk-container-id-1\" class=\"sk-top-container\"><div class=\"sk-text-repr-fallback\"><pre>LogisticRegression(max_iter=50)</pre><b>In a Jupyter environment, please rerun this cell to show the HTML representation or trust the notebook. <br />On GitHub, the HTML representation is unable to render, please try loading this page with nbviewer.org.</b></div><div class=\"sk-container\" hidden><div class=\"sk-item\"><div class=\"sk-estimator sk-toggleable\"><input class=\"sk-toggleable__control sk-hidden--visually\" id=\"sk-estimator-id-1\" type=\"checkbox\" checked><label for=\"sk-estimator-id-1\" class=\"sk-toggleable__label sk-toggleable__label-arrow\">LogisticRegression</label><div class=\"sk-toggleable__content\"><pre>LogisticRegression(max_iter=50)</pre></div></div></div></div></div>"
      ],
      "text/plain": [
       "LogisticRegression(max_iter=50)"
      ]
     },
     "execution_count": 14,
     "metadata": {},
     "output_type": "execute_result"
    }
   ],
   "source": [
    "###########LogisticRegression\n",
    "from sklearn.linear_model import LogisticRegression\n",
    "model = LogisticRegression(max_iter=50)\n",
    "model.fit(x_train,y_train)\n"
   ]
  },
  {
   "cell_type": "code",
   "execution_count": 15,
   "metadata": {},
   "outputs": [
    {
     "data": {
      "text/plain": [
       "array([0, 0, 0, 1, 1, 1, 1, 0, 1, 1, 0, 0, 1, 0, 0, 1, 0, 1, 0, 0, 0, 0,\n",
       "       1, 0, 0, 0, 0, 0, 0, 1, 0, 1, 0, 1, 0, 0, 0, 1, 1, 0, 0, 0, 0, 0,\n",
       "       1, 0, 0, 0, 0, 0, 1, 1, 0, 0, 0, 1, 0, 1, 1, 1, 0, 1, 1, 0, 0, 1,\n",
       "       0, 0, 0, 1, 1, 1, 0, 1, 0, 0, 1, 1, 1, 1, 0, 1, 1, 0, 0, 0, 1, 1,\n",
       "       0, 0, 0, 0, 0, 0, 0, 0, 0, 0, 1, 0, 0, 0, 1, 0, 0, 0, 1, 0, 0, 0,\n",
       "       1, 0, 1, 0, 1, 0, 0, 0, 1, 1, 0, 1, 1, 0, 0, 0, 1, 0, 1, 0, 1, 0,\n",
       "       0, 1, 0, 1, 1, 0, 0, 1, 0, 1, 0, 0, 1, 1, 0, 0, 1, 0, 0, 0, 0, 1,\n",
       "       0, 0, 0, 1, 1, 1, 0, 0, 0, 1, 0, 0, 0, 1, 0, 0, 0, 1, 0, 1, 0, 0,\n",
       "       1, 1, 1], dtype=int64)"
      ]
     },
     "execution_count": 15,
     "metadata": {},
     "output_type": "execute_result"
    }
   ],
   "source": [
    "y_pred = model.predict(x_test) # 50% threshold\n",
    "y_pred"
   ]
  },
  {
   "cell_type": "code",
   "execution_count": 16,
   "metadata": {},
   "outputs": [
    {
     "data": {
      "text/plain": [
       "array([[0.91139922, 0.08860078],\n",
       "       [0.83911496, 0.16088504],\n",
       "       [0.88417799, 0.11582201],\n",
       "       [0.20349801, 0.79650199],\n",
       "       [0.32365084, 0.67634916],\n",
       "       [0.09183661, 0.90816339],\n",
       "       [0.29583864, 0.70416136],\n",
       "       [0.91494187, 0.08505813],\n",
       "       [0.29270825, 0.70729175],\n",
       "       [0.18226024, 0.81773976],\n",
       "       [0.75283439, 0.24716561],\n",
       "       [0.88711359, 0.11288641],\n",
       "       [0.44175643, 0.55824357],\n",
       "       [0.88405153, 0.11594847],\n",
       "       [0.83681835, 0.16318165],\n",
       "       [0.14402376, 0.85597624],\n",
       "       [0.75493927, 0.24506073],\n",
       "       [0.29568558, 0.70431442],\n",
       "       [0.83526871, 0.16473129],\n",
       "       [0.71419417, 0.28580583],\n",
       "       [0.88471917, 0.11528083],\n",
       "       [0.75687827, 0.24312173],\n",
       "       [0.33647474, 0.66352526],\n",
       "       [0.88293706, 0.11706294],\n",
       "       [0.87885686, 0.12114314],\n",
       "       [0.94311872, 0.05688128],\n",
       "       [0.75250625, 0.24749375],\n",
       "       [0.83595889, 0.16404111],\n",
       "       [0.94271305, 0.05728695],\n",
       "       [0.2922085 , 0.7077915 ],\n",
       "       [0.88407705, 0.11592295],\n",
       "       [0.2900749 , 0.7099251 ],\n",
       "       [0.74447293, 0.25552707],\n",
       "       [0.29201289, 0.70798711],\n",
       "       [0.88380141, 0.11619859],\n",
       "       [0.89855212, 0.10144788],\n",
       "       [0.73982601, 0.26017399],\n",
       "       [0.29583864, 0.70416136],\n",
       "       [0.1343861 , 0.8656139 ],\n",
       "       [0.88523064, 0.11476936],\n",
       "       [0.81697704, 0.18302296],\n",
       "       [0.90659727, 0.09340273],\n",
       "       [0.8850852 , 0.1149148 ],\n",
       "       [0.88741123, 0.11258877],\n",
       "       [0.31153934, 0.68846066],\n",
       "       [0.92200838, 0.07799162],\n",
       "       [0.88382722, 0.11617278],\n",
       "       [0.883326  , 0.116674  ],\n",
       "       [0.88551713, 0.11448287],\n",
       "       [0.65751335, 0.34248665],\n",
       "       [0.39023436, 0.60976564],\n",
       "       [0.11729723, 0.88270277],\n",
       "       [0.93795633, 0.06204367],\n",
       "       [0.68391038, 0.31608962],\n",
       "       [0.8919719 , 0.1080281 ],\n",
       "       [0.11946499, 0.88053501],\n",
       "       [0.83928447, 0.16071553],\n",
       "       [0.02434431, 0.97565569],\n",
       "       [0.20221658, 0.79778342],\n",
       "       [0.29324052, 0.70675948],\n",
       "       [0.88444887, 0.11555113],\n",
       "       [0.22608935, 0.77391065],\n",
       "       [0.23023769, 0.76976231],\n",
       "       [0.75655833, 0.24344167],\n",
       "       [0.88741123, 0.11258877],\n",
       "       [0.22314308, 0.77685692],\n",
       "       [0.74165268, 0.25834732],\n",
       "       [0.88537778, 0.11462222],\n",
       "       [0.91616929, 0.08383071],\n",
       "       [0.11375759, 0.88624241],\n",
       "       [0.25849749, 0.74150251],\n",
       "       [0.03655442, 0.96344558],\n",
       "       [0.74522238, 0.25477762],\n",
       "       [0.12358118, 0.87641882],\n",
       "       [0.88463039, 0.11536961],\n",
       "       [0.90048883, 0.09951117],\n",
       "       [0.29649324, 0.70350676],\n",
       "       [0.15019949, 0.84980051],\n",
       "       [0.21509133, 0.78490867],\n",
       "       [0.33728792, 0.66271208],\n",
       "       [0.9411117 , 0.0588883 ],\n",
       "       [0.2171055 , 0.7828945 ],\n",
       "       [0.08061331, 0.91938669],\n",
       "       [0.88742282, 0.11257718],\n",
       "       [0.75110599, 0.24889401],\n",
       "       [0.72088491, 0.27911509],\n",
       "       [0.08285984, 0.91714016],\n",
       "       [0.10877691, 0.89122309],\n",
       "       [0.8001126 , 0.1998874 ],\n",
       "       [0.88583798, 0.11416202],\n",
       "       [0.90143403, 0.09856597],\n",
       "       [0.51614634, 0.48385366],\n",
       "       [0.75324852, 0.24675148],\n",
       "       [0.88743052, 0.11256948],\n",
       "       [0.88523064, 0.11476936],\n",
       "       [0.88526984, 0.11473016],\n",
       "       [0.75727732, 0.24272268],\n",
       "       [0.88723932, 0.11276068],\n",
       "       [0.21466749, 0.78533251],\n",
       "       [0.88510296, 0.11489704],\n",
       "       [0.76466484, 0.23533516],\n",
       "       [0.88684063, 0.11315937],\n",
       "       [0.09856706, 0.90143294],\n",
       "       [0.88728786, 0.11271214],\n",
       "       [0.88540422, 0.11459578],\n",
       "       [0.90559411, 0.09440589],\n",
       "       [0.23924521, 0.76075479],\n",
       "       [0.73906153, 0.26093847],\n",
       "       [0.8839677 , 0.1160323 ],\n",
       "       [0.7467965 , 0.2532035 ],\n",
       "       [0.1395452 , 0.8604548 ],\n",
       "       [0.88488179, 0.11511821],\n",
       "       [0.10123117, 0.89876883],\n",
       "       [0.75778757, 0.24221243],\n",
       "       [0.33553577, 0.66446423],\n",
       "       [0.88234041, 0.11765959],\n",
       "       [0.74774756, 0.25225244],\n",
       "       [0.83418917, 0.16581083],\n",
       "       [0.25224937, 0.74775063],\n",
       "       [0.39613132, 0.60386868],\n",
       "       [0.90286253, 0.09713747],\n",
       "       [0.09275671, 0.90724329],\n",
       "       [0.11753823, 0.88246177],\n",
       "       [0.85239296, 0.14760704],\n",
       "       [0.88545634, 0.11454366],\n",
       "       [0.75335865, 0.24664135],\n",
       "       [0.14535365, 0.85464635],\n",
       "       [0.64892034, 0.35107966],\n",
       "       [0.32097333, 0.67902667],\n",
       "       [0.88418785, 0.11581215],\n",
       "       [0.29558898, 0.70441102],\n",
       "       [0.91139922, 0.08860078],\n",
       "       [0.85136019, 0.14863981],\n",
       "       [0.27683546, 0.72316454],\n",
       "       [0.74517504, 0.25482496],\n",
       "       [0.31743299, 0.68256701],\n",
       "       [0.0687277 , 0.9312723 ],\n",
       "       [0.88547191, 0.11452809],\n",
       "       [0.8873264 , 0.1126736 ],\n",
       "       [0.31592168, 0.68407832],\n",
       "       [0.88382319, 0.11617681],\n",
       "       [0.23381892, 0.76618108],\n",
       "       [0.83544148, 0.16455852],\n",
       "       [0.85019044, 0.14980956],\n",
       "       [0.43210964, 0.56789036],\n",
       "       [0.24898159, 0.75101841],\n",
       "       [0.83578657, 0.16421343],\n",
       "       [0.84496208, 0.15503792],\n",
       "       [0.06201626, 0.93798374],\n",
       "       [0.88698774, 0.11301226],\n",
       "       [0.88236883, 0.11763117],\n",
       "       [0.88509715, 0.11490285],\n",
       "       [0.8840434 , 0.1159566 ],\n",
       "       [0.31031596, 0.68968404],\n",
       "       [0.8850852 , 0.1149148 ],\n",
       "       [0.88602551, 0.11397449],\n",
       "       [0.83089843, 0.16910157],\n",
       "       [0.29576616, 0.70423384],\n",
       "       [0.23202348, 0.76797652],\n",
       "       [0.364086  , 0.635914  ],\n",
       "       [0.88320795, 0.11679205],\n",
       "       [0.75548873, 0.24451127],\n",
       "       [0.83733228, 0.16266772],\n",
       "       [0.10723599, 0.89276401],\n",
       "       [0.88675297, 0.11324703],\n",
       "       [0.72735886, 0.27264114],\n",
       "       [0.83775371, 0.16224629],\n",
       "       [0.13969845, 0.86030155],\n",
       "       [0.8844627 , 0.1155373 ],\n",
       "       [0.88691044, 0.11308956],\n",
       "       [0.71416736, 0.28583264],\n",
       "       [0.26732274, 0.73267726],\n",
       "       [0.75761723, 0.24238277],\n",
       "       [0.34869374, 0.65130626],\n",
       "       [0.88455167, 0.11544833],\n",
       "       [0.88379376, 0.11620624],\n",
       "       [0.47624904, 0.52375096],\n",
       "       [0.21455437, 0.78544563],\n",
       "       [0.34881124, 0.65118876]])"
      ]
     },
     "execution_count": 16,
     "metadata": {},
     "output_type": "execute_result"
    }
   ],
   "source": [
    "y_pred_proba = model.predict_proba(x_test)\n",
    "y_pred_proba"
   ]
  },
  {
   "cell_type": "code",
   "execution_count": 17,
   "metadata": {},
   "outputs": [
    {
     "data": {
      "text/plain": [
       "array([0, 0, 0, 1, 1, 1, 1, 0, 1, 1, 1, 0, 1, 0, 0, 1, 1, 1, 0, 1, 0, 1,\n",
       "       1, 0, 0, 0, 1, 0, 0, 1, 0, 1, 1, 1, 0, 0, 1, 1, 1, 0, 0, 0, 0, 0,\n",
       "       1, 0, 0, 0, 0, 1, 1, 1, 0, 1, 0, 1, 0, 1, 1, 1, 0, 1, 1, 1, 0, 1,\n",
       "       1, 0, 0, 1, 1, 1, 1, 1, 0, 0, 1, 1, 1, 1, 0, 1, 1, 0, 1, 1, 1, 1,\n",
       "       0, 0, 0, 1, 1, 0, 0, 0, 1, 0, 1, 0, 1, 0, 1, 0, 0, 0, 1, 1, 0, 1,\n",
       "       1, 0, 1, 1, 1, 0, 1, 0, 1, 1, 0, 1, 1, 0, 0, 1, 1, 1, 1, 0, 1, 0,\n",
       "       0, 1, 1, 1, 1, 0, 0, 1, 0, 1, 0, 0, 1, 1, 0, 0, 1, 0, 0, 0, 0, 1,\n",
       "       0, 0, 0, 1, 1, 1, 0, 1, 0, 1, 0, 1, 0, 1, 0, 0, 1, 1, 1, 1, 0, 0,\n",
       "       1, 1, 1])"
      ]
     },
     "execution_count": 17,
     "metadata": {},
     "output_type": "execute_result"
    }
   ],
   "source": [
    "y_pred_edited = y_pred_proba[:,1] >= 0.2\n",
    "y_pred_edited = y_pred_edited.astype(int)\n",
    "y_pred_edited"
   ]
  },
  {
   "cell_type": "code",
   "execution_count": 19,
   "metadata": {},
   "outputs": [
    {
     "name": "stdout",
     "output_type": "stream",
     "text": [
      "              precision    recall  f1-score   support\n",
      "\n",
      "           0       0.80      0.84      0.82       105\n",
      "           1       0.75      0.70      0.73        74\n",
      "\n",
      "    accuracy                           0.78       179\n",
      "   macro avg       0.78      0.77      0.77       179\n",
      "weighted avg       0.78      0.78      0.78       179\n",
      "\n"
     ]
    }
   ],
   "source": [
    "from sklearn import metrics\n",
    "class_report = metrics.classification_report(y_test,y_pred)\n",
    "print(class_report)"
   ]
  },
  {
   "cell_type": "code",
   "execution_count": 20,
   "metadata": {},
   "outputs": [
    {
     "data": {
      "text/plain": [
       "<Axes: >"
      ]
     },
     "execution_count": 20,
     "metadata": {},
     "output_type": "execute_result"
    },
    {
     "data": {
      "image/png": "[encoded data removed]",
      "text/plain": [
       "<Figure size 640x480 with 2 Axes>"
      ]
     },
     "metadata": {},
     "output_type": "display_data"
    }
   ],
   "source": [
    "import seaborn as sns\n",
    "\n",
    "conv_mat = metrics.confusion_matrix(y_test,y_pred)\n",
    "conv_mat\n",
    "\n",
    "sns.heatmap(conv_mat,annot=True)"
   ]
  },
  {
   "cell_type": "code",
   "execution_count": 21,
   "metadata": {},
   "outputs": [
    {
     "name": "stdout",
     "output_type": "stream",
     "text": [
      "accuracy = 78.21%\n",
      "recall = 70.27%\n",
      "precision = 75.36%\n",
      "f1_score = 72.73%\n"
     ]
    }
   ],
   "source": [
    "accuracy = metrics.accuracy_score(y_test,y_pred)\n",
    "recall = metrics.recall_score(y_test,y_pred)\n",
    "precision = metrics.precision_score(y_test,y_pred)\n",
    "f1_score = metrics.f1_score(y_test,y_pred)\n",
    "\n",
    "print(f'accuracy = {accuracy:0.2%}')\n",
    "print(f'recall = {recall:0.2%}')\n",
    "print(f'precision = {precision:0.2%}')\n",
    "print(f'f1_score = {f1_score:0.2%}')\n",
    "###############accuracy and performance is low"
   ]
  },
  {
   "cell_type": "code",
   "execution_count": 22,
   "metadata": {},
   "outputs": [],
   "source": [
    "##############KNN algorithms\n",
    "from sklearn.neighbors import KNeighborsClassifier\n",
    "KNN_model = KNeighborsClassifier(n_neighbors=11)\n",
    "KNN_model.fit(x_train,y_train)\n",
    "y_pred = KNN_model.predict(x_test)\n",
    "y_pred_proba = KNN_model.predict_proba(x_test)"
   ]
  },
  {
   "cell_type": "code",
   "execution_count": 23,
   "metadata": {},
   "outputs": [
    {
     "name": "stdout",
     "output_type": "stream",
     "text": [
      "              precision    recall  f1-score   support\n",
      "\n",
      "           0       0.74      0.88      0.80       105\n",
      "           1       0.76      0.55      0.64        74\n",
      "\n",
      "    accuracy                           0.74       179\n",
      "   macro avg       0.75      0.72      0.72       179\n",
      "weighted avg       0.75      0.74      0.73       179\n",
      "\n"
     ]
    }
   ],
   "source": [
    "from sklearn import metrics\n",
    "class_report = metrics.classification_report(y_test,y_pred)\n",
    "print(class_report)"
   ]
  },
  {
   "cell_type": "code",
   "execution_count": 24,
   "metadata": {},
   "outputs": [
    {
     "data": {
      "text/plain": [
       "<Axes: >"
      ]
     },
     "execution_count": 24,
     "metadata": {},
     "output_type": "execute_result"
    },
    {
     "data": {
      "image/png": "[encoded data removed]",
      "text/plain": [
       "<Figure size 640x480 with 2 Axes>"
      ]
     },
     "metadata": {},
     "output_type": "display_data"
    }
   ],
   "source": [
    "import seaborn as sns\n",
    "conv_mat = metrics.confusion_matrix(y_test,y_pred)\n",
    "conv_mat\n",
    "sns.heatmap(conv_mat,annot=True)"
   ]
  },
  {
   "cell_type": "code",
   "execution_count": 25,
   "metadata": {},
   "outputs": [
    {
     "name": "stdout",
     "output_type": "stream",
     "text": [
      "accuracy = 74.30%\n",
      "recall = 55.41%\n",
      "precision = 75.93%\n",
      "f1_score = 64.06%\n"
     ]
    }
   ],
   "source": [
    "accuracy = metrics.accuracy_score(y_test,y_pred)\n",
    "recall = metrics.recall_score(y_test,y_pred)\n",
    "precision = metrics.precision_score(y_test,y_pred)\n",
    "f1_score = metrics.f1_score(y_test,y_pred)\n",
    "print(f'accuracy = {accuracy:0.2%}')\n",
    "print(f'recall = {recall:0.2%}')\n",
    "print(f'precision = {precision:0.2%}')\n",
    "print(f'f1_score = {f1_score:0.2%}')"
   ]
  },
  {
   "cell_type": "code",
   "execution_count": 26,
   "metadata": {},
   "outputs": [
    {
     "data": {
      "text/plain": [
       "[<matplotlib.lines.Line2D at 0x14b4c6ff210>]"
      ]
     },
     "execution_count": 26,
     "metadata": {},
     "output_type": "execute_result"
    },
    {
     "data": {
      "image/png": "[encoded data removed]",
      "text/plain": [
       "<Figure size 1500x800 with 1 Axes>"
      ]
     },
     "metadata": {},
     "output_type": "display_data"
    }
   ],
   "source": [
    "Errors = []\n",
    "import matplotlib.pyplot as plt\n",
    "for i in range(1,40):\n",
    "  KNN_model_temp = KNeighborsClassifier(n_neighbors=i)\n",
    "\n",
    "  KNN_model_temp.fit(x_train,y_train)\n",
    "\n",
    "  y_pred_temp = KNN_model_temp.predict(x_test)\n",
    "\n",
    "  Errors.append(metrics.recall_score(y_test,y_pred_temp))\n",
    "\n",
    "plt.figure(figsize=(15,8))\n",
    "\n",
    "plt.plot(range(1,40),Errors,'bo--', markerfacecolor = 'red', markersize = '10' )"
   ]
  },
  {
   "cell_type": "code",
   "execution_count": 27,
   "metadata": {},
   "outputs": [
    {
     "name": "stdout",
     "output_type": "stream",
     "text": [
      "              precision    recall  f1-score   support\n",
      "\n",
      "           0       0.80      0.84      0.82       105\n",
      "           1       0.75      0.70      0.73        74\n",
      "\n",
      "    accuracy                           0.78       179\n",
      "   macro avg       0.78      0.77      0.77       179\n",
      "weighted avg       0.78      0.78      0.78       179\n",
      "\n"
     ]
    }
   ],
   "source": [
    "#############SVM MODEL\n",
    "from sklearn.svm import SVC\n",
    "SVM_model = SVC(kernel = 'linear',probability=True)\n",
    "SVM_model.fit(x_train,y_train)\n",
    "y_pred = SVM_model.predict(x_test)\n",
    "from sklearn import metrics\n",
    "\n",
    "class_report = metrics.classification_report(y_test,y_pred)\n",
    "\n",
    "print(class_report)"
   ]
  },
  {
   "cell_type": "code",
   "execution_count": 28,
   "metadata": {},
   "outputs": [
    {
     "data": {
      "text/plain": [
       "<Axes: >"
      ]
     },
     "execution_count": 28,
     "metadata": {},
     "output_type": "execute_result"
    },
    {
     "data": {
      "image/png": "[encoded data removed]",
      "text/plain": [
       "<Figure size 640x480 with 2 Axes>"
      ]
     },
     "metadata": {},
     "output_type": "display_data"
    }
   ],
   "source": [
    "import seaborn as sns\n",
    "\n",
    "conv_mat = metrics.confusion_matrix(y_test,y_pred)\n",
    "conv_mat\n",
    "\n",
    "sns.heatmap(conv_mat,annot=True)"
   ]
  },
  {
   "cell_type": "code",
   "execution_count": 29,
   "metadata": {},
   "outputs": [
    {
     "name": "stdout",
     "output_type": "stream",
     "text": [
      "accuracy = 78.21%\n",
      "recall = 70.27%\n",
      "precision = 75.36%\n",
      "f1_score = 72.73%\n"
     ]
    }
   ],
   "source": [
    "accuracy = metrics.accuracy_score(y_test,y_pred)\n",
    "recall = metrics.recall_score(y_test,y_pred)\n",
    "precision = metrics.precision_score(y_test,y_pred)\n",
    "f1_score = metrics.f1_score(y_test,y_pred)\n",
    "\n",
    "print(f'accuracy = {accuracy:0.2%}')\n",
    "print(f'recall = {recall:0.2%}')\n",
    "print(f'precision = {precision:0.2%}')\n",
    "print(f'f1_score = {f1_score:0.2%}')\n"
   ]
  },
  {
   "cell_type": "code",
   "execution_count": 30,
   "metadata": {},
   "outputs": [
    {
     "name": "stdout",
     "output_type": "stream",
     "text": [
      "linear\n"
     ]
    },
    {
     "ename": "KeyboardInterrupt",
     "evalue": "",
     "output_type": "error",
     "traceback": [
      "\u001b[1;31m---------------------------------------------------------------------------\u001b[0m",
      "\u001b[1;31mKeyboardInterrupt\u001b[0m                         Traceback (most recent call last)",
      "\u001b[1;32mc:\\Users\\mohamed\\AI_env\\titanic classfier.ipynb Cell 28\u001b[0m line \u001b[0;36m7\n\u001b[0;32m      <a href='vscode-notebook-cell:/c%3A/Users/mohamed/AI_env/titanic%20classfier.ipynb#X36sZmlsZQ%3D%3D?line=3'>4</a>\u001b[0m \u001b[39mprint\u001b[39m(i)\n\u001b[0;32m      <a href='vscode-notebook-cell:/c%3A/Users/mohamed/AI_env/titanic%20classfier.ipynb#X36sZmlsZQ%3D%3D?line=4'>5</a>\u001b[0m SVM_model_temp \u001b[39m=\u001b[39m SVC(kernel\u001b[39m=\u001b[39m i)\n\u001b[1;32m----> <a href='vscode-notebook-cell:/c%3A/Users/mohamed/AI_env/titanic%20classfier.ipynb#X36sZmlsZQ%3D%3D?line=6'>7</a>\u001b[0m SVM_model_temp\u001b[39m.\u001b[39;49mfit(x_train,y_train)\n\u001b[0;32m      <a href='vscode-notebook-cell:/c%3A/Users/mohamed/AI_env/titanic%20classfier.ipynb#X36sZmlsZQ%3D%3D?line=8'>9</a>\u001b[0m y_pred_temp \u001b[39m=\u001b[39m SVM_model_temp\u001b[39m.\u001b[39mpredict(x_test)\n\u001b[0;32m     <a href='vscode-notebook-cell:/c%3A/Users/mohamed/AI_env/titanic%20classfier.ipynb#X36sZmlsZQ%3D%3D?line=10'>11</a>\u001b[0m Errors\u001b[39m.\u001b[39mappend(metrics\u001b[39m.\u001b[39mrecall_score(y_test,y_pred_temp))\n",
      "File \u001b[1;32mc:\\Users\\mohamed\\AI_env\\Lib\\site-packages\\sklearn\\base.py:1152\u001b[0m, in \u001b[0;36m_fit_context.<locals>.decorator.<locals>.wrapper\u001b[1;34m(estimator, *args, **kwargs)\u001b[0m\n\u001b[0;32m   1145\u001b[0m     estimator\u001b[39m.\u001b[39m_validate_params()\n\u001b[0;32m   1147\u001b[0m \u001b[39mwith\u001b[39;00m config_context(\n\u001b[0;32m   1148\u001b[0m     skip_parameter_validation\u001b[39m=\u001b[39m(\n\u001b[0;32m   1149\u001b[0m         prefer_skip_nested_validation \u001b[39mor\u001b[39;00m global_skip_validation\n\u001b[0;32m   1150\u001b[0m     )\n\u001b[0;32m   1151\u001b[0m ):\n\u001b[1;32m-> 1152\u001b[0m     \u001b[39mreturn\u001b[39;00m fit_method(estimator, \u001b[39m*\u001b[39;49margs, \u001b[39m*\u001b[39;49m\u001b[39m*\u001b[39;49mkwargs)\n",
      "File \u001b[1;32mc:\\Users\\mohamed\\AI_env\\Lib\\site-packages\\sklearn\\svm\\_base.py:250\u001b[0m, in \u001b[0;36mBaseLibSVM.fit\u001b[1;34m(self, X, y, sample_weight)\u001b[0m\n\u001b[0;32m    247\u001b[0m     \u001b[39mprint\u001b[39m(\u001b[39m\"\u001b[39m\u001b[39m[LibSVM]\u001b[39m\u001b[39m\"\u001b[39m, end\u001b[39m=\u001b[39m\u001b[39m\"\u001b[39m\u001b[39m\"\u001b[39m)\n\u001b[0;32m    249\u001b[0m seed \u001b[39m=\u001b[39m rnd\u001b[39m.\u001b[39mrandint(np\u001b[39m.\u001b[39miinfo(\u001b[39m\"\u001b[39m\u001b[39mi\u001b[39m\u001b[39m\"\u001b[39m)\u001b[39m.\u001b[39mmax)\n\u001b[1;32m--> 250\u001b[0m fit(X, y, sample_weight, solver_type, kernel, random_seed\u001b[39m=\u001b[39;49mseed)\n\u001b[0;32m    251\u001b[0m \u001b[39m# see comment on the other call to np.iinfo in this file\u001b[39;00m\n\u001b[0;32m    253\u001b[0m \u001b[39mself\u001b[39m\u001b[39m.\u001b[39mshape_fit_ \u001b[39m=\u001b[39m X\u001b[39m.\u001b[39mshape \u001b[39mif\u001b[39;00m \u001b[39mhasattr\u001b[39m(X, \u001b[39m\"\u001b[39m\u001b[39mshape\u001b[39m\u001b[39m\"\u001b[39m) \u001b[39melse\u001b[39;00m (n_samples,)\n",
      "File \u001b[1;32mc:\\Users\\mohamed\\AI_env\\Lib\\site-packages\\sklearn\\svm\\_base.py:329\u001b[0m, in \u001b[0;36mBaseLibSVM._dense_fit\u001b[1;34m(self, X, y, sample_weight, solver_type, kernel, random_seed)\u001b[0m\n\u001b[0;32m    315\u001b[0m libsvm\u001b[39m.\u001b[39mset_verbosity_wrap(\u001b[39mself\u001b[39m\u001b[39m.\u001b[39mverbose)\n\u001b[0;32m    317\u001b[0m \u001b[39m# we don't pass **self.get_params() to allow subclasses to\u001b[39;00m\n\u001b[0;32m    318\u001b[0m \u001b[39m# add other parameters to __init__\u001b[39;00m\n\u001b[0;32m    319\u001b[0m (\n\u001b[0;32m    320\u001b[0m     \u001b[39mself\u001b[39m\u001b[39m.\u001b[39msupport_,\n\u001b[0;32m    321\u001b[0m     \u001b[39mself\u001b[39m\u001b[39m.\u001b[39msupport_vectors_,\n\u001b[0;32m    322\u001b[0m     \u001b[39mself\u001b[39m\u001b[39m.\u001b[39m_n_support,\n\u001b[0;32m    323\u001b[0m     \u001b[39mself\u001b[39m\u001b[39m.\u001b[39mdual_coef_,\n\u001b[0;32m    324\u001b[0m     \u001b[39mself\u001b[39m\u001b[39m.\u001b[39mintercept_,\n\u001b[0;32m    325\u001b[0m     \u001b[39mself\u001b[39m\u001b[39m.\u001b[39m_probA,\n\u001b[0;32m    326\u001b[0m     \u001b[39mself\u001b[39m\u001b[39m.\u001b[39m_probB,\n\u001b[0;32m    327\u001b[0m     \u001b[39mself\u001b[39m\u001b[39m.\u001b[39mfit_status_,\n\u001b[0;32m    328\u001b[0m     \u001b[39mself\u001b[39m\u001b[39m.\u001b[39m_num_iter,\n\u001b[1;32m--> 329\u001b[0m ) \u001b[39m=\u001b[39m libsvm\u001b[39m.\u001b[39;49mfit(\n\u001b[0;32m    330\u001b[0m     X,\n\u001b[0;32m    331\u001b[0m     y,\n\u001b[0;32m    332\u001b[0m     svm_type\u001b[39m=\u001b[39;49msolver_type,\n\u001b[0;32m    333\u001b[0m     sample_weight\u001b[39m=\u001b[39;49msample_weight,\n\u001b[0;32m    334\u001b[0m     \u001b[39m# TODO(1.4): Replace \"_class_weight\" with \"class_weight_\"\u001b[39;49;00m\n\u001b[0;32m    335\u001b[0m     class_weight\u001b[39m=\u001b[39;49m\u001b[39mgetattr\u001b[39;49m(\u001b[39mself\u001b[39;49m, \u001b[39m\"\u001b[39;49m\u001b[39m_class_weight\u001b[39;49m\u001b[39m\"\u001b[39;49m, np\u001b[39m.\u001b[39;49mempty(\u001b[39m0\u001b[39;49m)),\n\u001b[0;32m    336\u001b[0m     kernel\u001b[39m=\u001b[39;49mkernel,\n\u001b[0;32m    337\u001b[0m     C\u001b[39m=\u001b[39;49m\u001b[39mself\u001b[39;49m\u001b[39m.\u001b[39;49mC,\n\u001b[0;32m    338\u001b[0m     nu\u001b[39m=\u001b[39;49m\u001b[39mself\u001b[39;49m\u001b[39m.\u001b[39;49mnu,\n\u001b[0;32m    339\u001b[0m     probability\u001b[39m=\u001b[39;49m\u001b[39mself\u001b[39;49m\u001b[39m.\u001b[39;49mprobability,\n\u001b[0;32m    340\u001b[0m     degree\u001b[39m=\u001b[39;49m\u001b[39mself\u001b[39;49m\u001b[39m.\u001b[39;49mdegree,\n\u001b[0;32m    341\u001b[0m     shrinking\u001b[39m=\u001b[39;49m\u001b[39mself\u001b[39;49m\u001b[39m.\u001b[39;49mshrinking,\n\u001b[0;32m    342\u001b[0m     tol\u001b[39m=\u001b[39;49m\u001b[39mself\u001b[39;49m\u001b[39m.\u001b[39;49mtol,\n\u001b[0;32m    343\u001b[0m     cache_size\u001b[39m=\u001b[39;49m\u001b[39mself\u001b[39;49m\u001b[39m.\u001b[39;49mcache_size,\n\u001b[0;32m    344\u001b[0m     coef0\u001b[39m=\u001b[39;49m\u001b[39mself\u001b[39;49m\u001b[39m.\u001b[39;49mcoef0,\n\u001b[0;32m    345\u001b[0m     gamma\u001b[39m=\u001b[39;49m\u001b[39mself\u001b[39;49m\u001b[39m.\u001b[39;49m_gamma,\n\u001b[0;32m    346\u001b[0m     epsilon\u001b[39m=\u001b[39;49m\u001b[39mself\u001b[39;49m\u001b[39m.\u001b[39;49mepsilon,\n\u001b[0;32m    347\u001b[0m     max_iter\u001b[39m=\u001b[39;49m\u001b[39mself\u001b[39;49m\u001b[39m.\u001b[39;49mmax_iter,\n\u001b[0;32m    348\u001b[0m     random_seed\u001b[39m=\u001b[39;49mrandom_seed,\n\u001b[0;32m    349\u001b[0m )\n\u001b[0;32m    351\u001b[0m \u001b[39mself\u001b[39m\u001b[39m.\u001b[39m_warn_from_fit_status()\n",
      "\u001b[1;31mKeyboardInterrupt\u001b[0m: "
     ]
    }
   ],
   "source": [
    "Errors = []\n",
    "\n",
    "for i in ['linear', 'poly', 'rbf', 'sigmoid']:\n",
    "  print(i)\n",
    "  SVM_model_temp = SVC(kernel= i)\n",
    "\n",
    "  SVM_model_temp.fit(x_train,y_train)\n",
    "\n",
    "  y_pred_temp = SVM_model_temp.predict(x_test)\n",
    "\n",
    "  Errors.append(metrics.recall_score(y_test,y_pred_temp))\n",
    "\n",
    "plt.figure(figsize=(15,8))\n",
    "\n",
    "plt.plot(range(1,5),Errors,'bo--', markerfacecolor = 'red', markersize = '10' )"
   ]
  },
  {
   "cell_type": "markdown",
   "metadata": {},
   "source": [
    "the best model till now is linear logistic"
   ]
  },
  {
   "cell_type": "code",
   "execution_count": 31,
   "metadata": {},
   "outputs": [
    {
     "name": "stdout",
     "output_type": "stream",
     "text": [
      "              precision    recall  f1-score   support\n",
      "\n",
      "           0       0.79      0.81      0.80       105\n",
      "           1       0.72      0.70      0.71        74\n",
      "\n",
      "    accuracy                           0.77       179\n",
      "   macro avg       0.76      0.76      0.76       179\n",
      "weighted avg       0.76      0.77      0.76       179\n",
      "\n"
     ]
    }
   ],
   "source": [
    "############using decision tree\n",
    "from sklearn.tree import DecisionTreeClassifier\n",
    "D_T_model=DecisionTreeClassifier()\n",
    "D_T_model.fit(x_train,y_train)\n",
    "y_pred_tree=D_T_model.predict(x_test)\n",
    "print(metrics.classification_report(y_test,y_pred_tree))"
   ]
  },
  {
   "cell_type": "markdown",
   "metadata": {},
   "source": []
  },
  {
   "cell_type": "code",
   "execution_count": 32,
   "metadata": {},
   "outputs": [
    {
     "name": "stdout",
     "output_type": "stream",
     "text": [
      "accuracy = 76.54%\n",
      "recall = 70.27%\n",
      "precision = 72.22%\n",
      "f1_score = 71.23%\n"
     ]
    }
   ],
   "source": [
    "accuracy = metrics.accuracy_score(y_test,y_pred_tree)\n",
    "recall = metrics.recall_score(y_test,y_pred_tree)\n",
    "precision = metrics.precision_score(y_test,y_pred_tree)\n",
    "f1_score = metrics.f1_score(y_test,y_pred_tree)\n",
    "\n",
    "print(f'accuracy = {accuracy:0.2%}')\n",
    "print(f'recall = {recall:0.2%}')\n",
    "print(f'precision = {precision:0.2%}')\n",
    "print(f'f1_score = {f1_score:0.2%}')"
   ]
  },
  {
   "cell_type": "markdown",
   "metadata": {},
   "source": [
    "THE MODEL TREE classifier is the best "
   ]
  },
  {
   "cell_type": "code",
   "execution_count": 33,
   "metadata": {},
   "outputs": [
    {
     "name": "stdout",
     "output_type": "stream",
     "text": [
      "|--- feature_1 <= 0.50\n",
      "|   |--- feature_0 <= 2.50\n",
      "|   |   |--- feature_2 <= 2.50\n",
      "|   |   |   |--- feature_4 <= 1.50\n",
      "|   |   |   |   |--- class: 1\n",
      "|   |   |   |--- feature_4 >  1.50\n",
      "|   |   |   |   |--- class: 0\n",
      "|   |   |--- feature_2 >  2.50\n",
      "|   |   |   |--- feature_2 <= 27.50\n",
      "|   |   |   |   |--- feature_2 <= 24.50\n",
      "|   |   |   |   |   |--- feature_5 <= 13.40\n",
      "|   |   |   |   |   |   |--- feature_5 <= 12.50\n",
      "|   |   |   |   |   |   |   |--- class: 1\n",
      "|   |   |   |   |   |   |--- feature_5 >  12.50\n",
      "|   |   |   |   |   |   |   |--- class: 0\n",
      "|   |   |   |   |   |--- feature_5 >  13.40\n",
      "|   |   |   |   |   |   |--- class: 1\n",
      "|   |   |   |   |--- feature_2 >  24.50\n",
      "|   |   |   |   |   |--- feature_5 <= 90.78\n",
      "|   |   |   |   |   |   |--- feature_4 <= 0.50\n",
      "|   |   |   |   |   |   |   |--- feature_5 <= 17.43\n",
      "|   |   |   |   |   |   |   |   |--- class: 1\n",
      "|   |   |   |   |   |   |   |--- feature_5 >  17.43\n",
      "|   |   |   |   |   |   |   |   |--- class: 0\n",
      "|   |   |   |   |   |   |--- feature_4 >  0.50\n",
      "|   |   |   |   |   |   |   |--- class: 1\n",
      "|   |   |   |   |   |--- feature_5 >  90.78\n",
      "|   |   |   |   |   |   |--- class: 0\n",
      "|   |   |   |--- feature_2 >  27.50\n",
      "|   |   |   |   |--- feature_2 <= 49.50\n",
      "|   |   |   |   |   |--- class: 1\n",
      "|   |   |   |   |--- feature_2 >  49.50\n",
      "|   |   |   |   |   |--- feature_2 <= 50.50\n",
      "|   |   |   |   |   |   |--- feature_6 <= 0.50\n",
      "|   |   |   |   |   |   |   |--- class: 0\n",
      "|   |   |   |   |   |   |--- feature_6 >  0.50\n",
      "|   |   |   |   |   |   |   |--- class: 1\n",
      "|   |   |   |   |   |--- feature_2 >  50.50\n",
      "|   |   |   |   |   |   |--- class: 1\n",
      "|   |--- feature_0 >  2.50\n",
      "|   |   |--- feature_5 <= 23.35\n",
      "|   |   |   |--- feature_5 <= 15.37\n",
      "|   |   |   |   |--- feature_5 <= 8.04\n",
      "|   |   |   |   |   |--- feature_5 <= 7.74\n",
      "|   |   |   |   |   |   |--- feature_5 <= 6.99\n",
      "|   |   |   |   |   |   |   |--- class: 0\n",
      "|   |   |   |   |   |   |--- feature_5 >  6.99\n",
      "|   |   |   |   |   |   |   |--- feature_6 <= 1.50\n",
      "|   |   |   |   |   |   |   |   |--- class: 1\n",
      "|   |   |   |   |   |   |   |--- feature_6 >  1.50\n",
      "|   |   |   |   |   |   |   |   |--- feature_5 <= 7.68\n",
      "|   |   |   |   |   |   |   |   |   |--- class: 0\n",
      "|   |   |   |   |   |   |   |   |--- feature_5 >  7.68\n",
      "|   |   |   |   |   |   |   |   |   |--- class: 1\n",
      "|   |   |   |   |   |--- feature_5 >  7.74\n",
      "|   |   |   |   |   |   |--- feature_6 <= 1.50\n",
      "|   |   |   |   |   |   |   |--- feature_2 <= 27.50\n",
      "|   |   |   |   |   |   |   |   |--- feature_2 <= 25.50\n",
      "|   |   |   |   |   |   |   |   |   |--- feature_4 <= 1.00\n",
      "|   |   |   |   |   |   |   |   |   |   |--- feature_5 <= 7.81\n",
      "|   |   |   |   |   |   |   |   |   |   |   |--- truncated branch of depth 3\n",
      "|   |   |   |   |   |   |   |   |   |   |--- feature_5 >  7.81\n",
      "|   |   |   |   |   |   |   |   |   |   |   |--- class: 0\n",
      "|   |   |   |   |   |   |   |   |   |--- feature_4 >  1.00\n",
      "|   |   |   |   |   |   |   |   |   |   |--- class: 1\n",
      "|   |   |   |   |   |   |   |   |--- feature_2 >  25.50\n",
      "|   |   |   |   |   |   |   |   |   |--- class: 1\n",
      "|   |   |   |   |   |   |   |--- feature_2 >  27.50\n",
      "|   |   |   |   |   |   |   |   |--- class: 0\n",
      "|   |   |   |   |   |   |--- feature_6 >  1.50\n",
      "|   |   |   |   |   |   |   |--- feature_4 <= 1.00\n",
      "|   |   |   |   |   |   |   |   |--- feature_2 <= 21.50\n",
      "|   |   |   |   |   |   |   |   |   |--- feature_5 <= 7.89\n",
      "|   |   |   |   |   |   |   |   |   |   |--- class: 0\n",
      "|   |   |   |   |   |   |   |   |   |--- feature_5 >  7.89\n",
      "|   |   |   |   |   |   |   |   |   |   |--- class: 1\n",
      "|   |   |   |   |   |   |   |   |--- feature_2 >  21.50\n",
      "|   |   |   |   |   |   |   |   |   |--- feature_5 <= 7.81\n",
      "|   |   |   |   |   |   |   |   |   |   |--- feature_2 <= 25.00\n",
      "|   |   |   |   |   |   |   |   |   |   |   |--- class: 1\n",
      "|   |   |   |   |   |   |   |   |   |   |--- feature_2 >  25.00\n",
      "|   |   |   |   |   |   |   |   |   |   |   |--- class: 1\n",
      "|   |   |   |   |   |   |   |   |   |--- feature_5 >  7.81\n",
      "|   |   |   |   |   |   |   |   |   |   |--- class: 1\n",
      "|   |   |   |   |   |   |   |--- feature_4 >  1.00\n",
      "|   |   |   |   |   |   |   |   |--- class: 0\n",
      "|   |   |   |   |--- feature_5 >  8.04\n",
      "|   |   |   |   |   |--- feature_4 <= 0.50\n",
      "|   |   |   |   |   |   |--- feature_2 <= 55.00\n",
      "|   |   |   |   |   |   |   |--- feature_2 <= 29.00\n",
      "|   |   |   |   |   |   |   |   |--- feature_2 <= 19.00\n",
      "|   |   |   |   |   |   |   |   |   |--- feature_2 <= 17.50\n",
      "|   |   |   |   |   |   |   |   |   |   |--- class: 0\n",
      "|   |   |   |   |   |   |   |   |   |--- feature_2 >  17.50\n",
      "|   |   |   |   |   |   |   |   |   |   |--- class: 1\n",
      "|   |   |   |   |   |   |   |   |--- feature_2 >  19.00\n",
      "|   |   |   |   |   |   |   |   |   |--- class: 0\n",
      "|   |   |   |   |   |   |   |--- feature_2 >  29.00\n",
      "|   |   |   |   |   |   |   |   |--- feature_2 <= 34.00\n",
      "|   |   |   |   |   |   |   |   |   |--- feature_5 <= 8.67\n",
      "|   |   |   |   |   |   |   |   |   |   |--- class: 0\n",
      "|   |   |   |   |   |   |   |   |   |--- feature_5 >  8.67\n",
      "|   |   |   |   |   |   |   |   |   |   |--- class: 1\n",
      "|   |   |   |   |   |   |   |   |--- feature_2 >  34.00\n",
      "|   |   |   |   |   |   |   |   |   |--- class: 0\n",
      "|   |   |   |   |   |   |--- feature_2 >  55.00\n",
      "|   |   |   |   |   |   |   |--- class: 1\n",
      "|   |   |   |   |   |--- feature_4 >  0.50\n",
      "|   |   |   |   |   |   |--- feature_5 <= 13.91\n",
      "|   |   |   |   |   |   |   |--- feature_5 <= 10.80\n",
      "|   |   |   |   |   |   |   |   |--- feature_5 <= 9.91\n",
      "|   |   |   |   |   |   |   |   |   |--- class: 1\n",
      "|   |   |   |   |   |   |   |   |--- feature_5 >  9.91\n",
      "|   |   |   |   |   |   |   |   |   |--- class: 0\n",
      "|   |   |   |   |   |   |   |--- feature_5 >  10.80\n",
      "|   |   |   |   |   |   |   |   |--- class: 1\n",
      "|   |   |   |   |   |   |--- feature_5 >  13.91\n",
      "|   |   |   |   |   |   |   |--- feature_2 <= 28.50\n",
      "|   |   |   |   |   |   |   |   |--- class: 0\n",
      "|   |   |   |   |   |   |   |--- feature_2 >  28.50\n",
      "|   |   |   |   |   |   |   |   |--- class: 1\n",
      "|   |   |   |--- feature_5 >  15.37\n",
      "|   |   |   |   |--- feature_3 <= 2.50\n",
      "|   |   |   |   |   |--- feature_4 <= 3.50\n",
      "|   |   |   |   |   |   |--- feature_4 <= 0.50\n",
      "|   |   |   |   |   |   |   |--- feature_5 <= 17.70\n",
      "|   |   |   |   |   |   |   |   |--- feature_2 <= 27.00\n",
      "|   |   |   |   |   |   |   |   |   |--- feature_2 <= 25.00\n",
      "|   |   |   |   |   |   |   |   |   |   |--- class: 1\n",
      "|   |   |   |   |   |   |   |   |   |--- feature_2 >  25.00\n",
      "|   |   |   |   |   |   |   |   |   |   |--- class: 0\n",
      "|   |   |   |   |   |   |   |   |--- feature_2 >  27.00\n",
      "|   |   |   |   |   |   |   |   |   |--- class: 1\n",
      "|   |   |   |   |   |   |   |--- feature_5 >  17.70\n",
      "|   |   |   |   |   |   |   |   |--- feature_6 <= 1.50\n",
      "|   |   |   |   |   |   |   |   |   |--- class: 0\n",
      "|   |   |   |   |   |   |   |   |--- feature_6 >  1.50\n",
      "|   |   |   |   |   |   |   |   |   |--- class: 1\n",
      "|   |   |   |   |   |   |--- feature_4 >  0.50\n",
      "|   |   |   |   |   |   |   |--- class: 1\n",
      "|   |   |   |   |   |--- feature_4 >  3.50\n",
      "|   |   |   |   |   |   |--- class: 0\n",
      "|   |   |   |   |--- feature_3 >  2.50\n",
      "|   |   |   |   |   |--- feature_5 <= 18.46\n",
      "|   |   |   |   |   |   |--- class: 1\n",
      "|   |   |   |   |   |--- feature_5 >  18.46\n",
      "|   |   |   |   |   |   |--- class: 0\n",
      "|   |   |--- feature_5 >  23.35\n",
      "|   |   |   |--- feature_2 <= 5.50\n",
      "|   |   |   |   |--- feature_5 <= 31.33\n",
      "|   |   |   |   |   |--- class: 0\n",
      "|   |   |   |   |--- feature_5 >  31.33\n",
      "|   |   |   |   |   |--- class: 1\n",
      "|   |   |   |--- feature_2 >  5.50\n",
      "|   |   |   |   |--- class: 0\n",
      "|--- feature_1 >  0.50\n",
      "|   |--- feature_2 <= 6.50\n",
      "|   |   |--- feature_3 <= 2.50\n",
      "|   |   |   |--- class: 1\n",
      "|   |   |--- feature_3 >  2.50\n",
      "|   |   |   |--- feature_2 <= 2.50\n",
      "|   |   |   |   |--- class: 0\n",
      "|   |   |   |--- feature_2 >  2.50\n",
      "|   |   |   |   |--- feature_2 <= 3.50\n",
      "|   |   |   |   |   |--- class: 1\n",
      "|   |   |   |   |--- feature_2 >  3.50\n",
      "|   |   |   |   |   |--- class: 0\n",
      "|   |--- feature_2 >  6.50\n",
      "|   |   |--- feature_0 <= 1.50\n",
      "|   |   |   |--- feature_5 <= 387.66\n",
      "|   |   |   |   |--- feature_5 <= 26.14\n",
      "|   |   |   |   |   |--- class: 0\n",
      "|   |   |   |   |--- feature_5 >  26.14\n",
      "|   |   |   |   |   |--- feature_5 <= 134.64\n",
      "|   |   |   |   |   |   |--- feature_2 <= 27.50\n",
      "|   |   |   |   |   |   |   |--- feature_2 <= 23.00\n",
      "|   |   |   |   |   |   |   |   |--- feature_2 <= 17.50\n",
      "|   |   |   |   |   |   |   |   |   |--- class: 1\n",
      "|   |   |   |   |   |   |   |   |--- feature_2 >  17.50\n",
      "|   |   |   |   |   |   |   |   |   |--- class: 0\n",
      "|   |   |   |   |   |   |   |--- feature_2 >  23.00\n",
      "|   |   |   |   |   |   |   |   |--- class: 1\n",
      "|   |   |   |   |   |   |--- feature_2 >  27.50\n",
      "|   |   |   |   |   |   |   |--- feature_5 <= 26.42\n",
      "|   |   |   |   |   |   |   |   |--- class: 1\n",
      "|   |   |   |   |   |   |   |--- feature_5 >  26.42\n",
      "|   |   |   |   |   |   |   |   |--- feature_5 <= 115.44\n",
      "|   |   |   |   |   |   |   |   |   |--- feature_2 <= 75.00\n",
      "|   |   |   |   |   |   |   |   |   |   |--- feature_2 <= 60.50\n",
      "|   |   |   |   |   |   |   |   |   |   |   |--- truncated branch of depth 11\n",
      "|   |   |   |   |   |   |   |   |   |   |--- feature_2 >  60.50\n",
      "|   |   |   |   |   |   |   |   |   |   |   |--- class: 0\n",
      "|   |   |   |   |   |   |   |   |   |--- feature_2 >  75.00\n",
      "|   |   |   |   |   |   |   |   |   |   |--- class: 1\n",
      "|   |   |   |   |   |   |   |   |--- feature_5 >  115.44\n",
      "|   |   |   |   |   |   |   |   |   |--- class: 1\n",
      "|   |   |   |   |   |--- feature_5 >  134.64\n",
      "|   |   |   |   |   |   |--- class: 0\n",
      "|   |   |   |--- feature_5 >  387.66\n",
      "|   |   |   |   |--- class: 1\n",
      "|   |   |--- feature_0 >  1.50\n",
      "|   |   |   |--- feature_5 <= 51.70\n",
      "|   |   |   |   |--- feature_2 <= 32.25\n",
      "|   |   |   |   |   |--- feature_2 <= 31.50\n",
      "|   |   |   |   |   |   |--- feature_6 <= 0.50\n",
      "|   |   |   |   |   |   |   |--- feature_2 <= 22.50\n",
      "|   |   |   |   |   |   |   |   |--- feature_2 <= 11.50\n",
      "|   |   |   |   |   |   |   |   |   |--- class: 0\n",
      "|   |   |   |   |   |   |   |   |--- feature_2 >  11.50\n",
      "|   |   |   |   |   |   |   |   |   |--- feature_5 <= 9.24\n",
      "|   |   |   |   |   |   |   |   |   |   |--- feature_2 <= 17.50\n",
      "|   |   |   |   |   |   |   |   |   |   |   |--- class: 0\n",
      "|   |   |   |   |   |   |   |   |   |   |--- feature_2 >  17.50\n",
      "|   |   |   |   |   |   |   |   |   |   |   |--- truncated branch of depth 4\n",
      "|   |   |   |   |   |   |   |   |   |--- feature_5 >  9.24\n",
      "|   |   |   |   |   |   |   |   |   |   |--- class: 1\n",
      "|   |   |   |   |   |   |   |--- feature_2 >  22.50\n",
      "|   |   |   |   |   |   |   |   |--- feature_3 <= 0.50\n",
      "|   |   |   |   |   |   |   |   |   |--- feature_5 <= 16.92\n",
      "|   |   |   |   |   |   |   |   |   |   |--- feature_2 <= 28.75\n",
      "|   |   |   |   |   |   |   |   |   |   |   |--- truncated branch of depth 5\n",
      "|   |   |   |   |   |   |   |   |   |   |--- feature_2 >  28.75\n",
      "|   |   |   |   |   |   |   |   |   |   |   |--- truncated branch of depth 2\n",
      "|   |   |   |   |   |   |   |   |   |--- feature_5 >  16.92\n",
      "|   |   |   |   |   |   |   |   |   |   |--- class: 1\n",
      "|   |   |   |   |   |   |   |   |--- feature_3 >  0.50\n",
      "|   |   |   |   |   |   |   |   |   |--- class: 0\n",
      "|   |   |   |   |   |   |--- feature_6 >  0.50\n",
      "|   |   |   |   |   |   |   |--- feature_2 <= 10.00\n",
      "|   |   |   |   |   |   |   |   |--- feature_3 <= 2.50\n",
      "|   |   |   |   |   |   |   |   |   |--- class: 1\n",
      "|   |   |   |   |   |   |   |   |--- feature_3 >  2.50\n",
      "|   |   |   |   |   |   |   |   |   |--- class: 0\n",
      "|   |   |   |   |   |   |   |--- feature_2 >  10.00\n",
      "|   |   |   |   |   |   |   |   |--- feature_5 <= 7.80\n",
      "|   |   |   |   |   |   |   |   |   |--- feature_5 <= 7.76\n",
      "|   |   |   |   |   |   |   |   |   |   |--- feature_2 <= 23.00\n",
      "|   |   |   |   |   |   |   |   |   |   |   |--- class: 0\n",
      "|   |   |   |   |   |   |   |   |   |   |--- feature_2 >  23.00\n",
      "|   |   |   |   |   |   |   |   |   |   |   |--- truncated branch of depth 6\n",
      "|   |   |   |   |   |   |   |   |   |--- feature_5 >  7.76\n",
      "|   |   |   |   |   |   |   |   |   |   |--- feature_3 <= 0.50\n",
      "|   |   |   |   |   |   |   |   |   |   |   |--- truncated branch of depth 7\n",
      "|   |   |   |   |   |   |   |   |   |   |--- feature_3 >  0.50\n",
      "|   |   |   |   |   |   |   |   |   |   |   |--- class: 1\n",
      "|   |   |   |   |   |   |   |   |--- feature_5 >  7.80\n",
      "|   |   |   |   |   |   |   |   |   |--- feature_2 <= 30.50\n",
      "|   |   |   |   |   |   |   |   |   |   |--- feature_5 <= 7.91\n",
      "|   |   |   |   |   |   |   |   |   |   |   |--- class: 0\n",
      "|   |   |   |   |   |   |   |   |   |   |--- feature_5 >  7.91\n",
      "|   |   |   |   |   |   |   |   |   |   |   |--- truncated branch of depth 10\n",
      "|   |   |   |   |   |   |   |   |   |--- feature_2 >  30.50\n",
      "|   |   |   |   |   |   |   |   |   |   |--- feature_0 <= 2.50\n",
      "|   |   |   |   |   |   |   |   |   |   |   |--- class: 0\n",
      "|   |   |   |   |   |   |   |   |   |   |--- feature_0 >  2.50\n",
      "|   |   |   |   |   |   |   |   |   |   |   |--- class: 1\n",
      "|   |   |   |   |   |--- feature_2 >  31.50\n",
      "|   |   |   |   |   |   |--- feature_0 <= 2.50\n",
      "|   |   |   |   |   |   |   |--- class: 1\n",
      "|   |   |   |   |   |   |--- feature_0 >  2.50\n",
      "|   |   |   |   |   |   |   |--- feature_5 <= 8.21\n",
      "|   |   |   |   |   |   |   |   |--- feature_5 <= 7.99\n",
      "|   |   |   |   |   |   |   |   |   |--- feature_5 <= 7.80\n",
      "|   |   |   |   |   |   |   |   |   |   |--- class: 0\n",
      "|   |   |   |   |   |   |   |   |   |--- feature_5 >  7.80\n",
      "|   |   |   |   |   |   |   |   |   |   |--- feature_5 <= 7.88\n",
      "|   |   |   |   |   |   |   |   |   |   |   |--- class: 1\n",
      "|   |   |   |   |   |   |   |   |   |   |--- feature_5 >  7.88\n",
      "|   |   |   |   |   |   |   |   |   |   |   |--- truncated branch of depth 2\n",
      "|   |   |   |   |   |   |   |   |--- feature_5 >  7.99\n",
      "|   |   |   |   |   |   |   |   |   |--- class: 1\n",
      "|   |   |   |   |   |   |   |--- feature_5 >  8.21\n",
      "|   |   |   |   |   |   |   |   |--- class: 0\n",
      "|   |   |   |   |--- feature_2 >  32.25\n",
      "|   |   |   |   |   |--- feature_2 <= 61.50\n",
      "|   |   |   |   |   |   |--- feature_5 <= 13.25\n",
      "|   |   |   |   |   |   |   |--- feature_5 <= 12.76\n",
      "|   |   |   |   |   |   |   |   |--- feature_5 <= 7.91\n",
      "|   |   |   |   |   |   |   |   |   |--- class: 0\n",
      "|   |   |   |   |   |   |   |   |--- feature_5 >  7.91\n",
      "|   |   |   |   |   |   |   |   |   |--- feature_5 <= 7.99\n",
      "|   |   |   |   |   |   |   |   |   |   |--- feature_3 <= 1.00\n",
      "|   |   |   |   |   |   |   |   |   |   |   |--- truncated branch of depth 2\n",
      "|   |   |   |   |   |   |   |   |   |   |--- feature_3 >  1.00\n",
      "|   |   |   |   |   |   |   |   |   |   |   |--- class: 0\n",
      "|   |   |   |   |   |   |   |   |   |--- feature_5 >  7.99\n",
      "|   |   |   |   |   |   |   |   |   |   |--- class: 0\n",
      "|   |   |   |   |   |   |   |--- feature_5 >  12.76\n",
      "|   |   |   |   |   |   |   |   |--- feature_2 <= 45.00\n",
      "|   |   |   |   |   |   |   |   |   |--- feature_2 <= 40.50\n",
      "|   |   |   |   |   |   |   |   |   |   |--- feature_2 <= 36.50\n",
      "|   |   |   |   |   |   |   |   |   |   |   |--- class: 0\n",
      "|   |   |   |   |   |   |   |   |   |   |--- feature_2 >  36.50\n",
      "|   |   |   |   |   |   |   |   |   |   |   |--- class: 0\n",
      "|   |   |   |   |   |   |   |   |   |--- feature_2 >  40.50\n",
      "|   |   |   |   |   |   |   |   |   |   |--- class: 0\n",
      "|   |   |   |   |   |   |   |   |--- feature_2 >  45.00\n",
      "|   |   |   |   |   |   |   |   |   |--- class: 0\n",
      "|   |   |   |   |   |   |--- feature_5 >  13.25\n",
      "|   |   |   |   |   |   |   |--- class: 0\n",
      "|   |   |   |   |   |--- feature_2 >  61.50\n",
      "|   |   |   |   |   |   |--- feature_2 <= 66.00\n",
      "|   |   |   |   |   |   |   |--- class: 1\n",
      "|   |   |   |   |   |   |--- feature_2 >  66.00\n",
      "|   |   |   |   |   |   |   |--- class: 0\n",
      "|   |   |   |--- feature_5 >  51.70\n",
      "|   |   |   |   |--- feature_5 <= 63.02\n",
      "|   |   |   |   |   |--- feature_2 <= 30.00\n",
      "|   |   |   |   |   |   |--- feature_2 <= 27.00\n",
      "|   |   |   |   |   |   |   |--- class: 1\n",
      "|   |   |   |   |   |   |--- feature_2 >  27.00\n",
      "|   |   |   |   |   |   |   |--- class: 0\n",
      "|   |   |   |   |   |--- feature_2 >  30.00\n",
      "|   |   |   |   |   |   |--- class: 1\n",
      "|   |   |   |   |--- feature_5 >  63.02\n",
      "|   |   |   |   |   |--- class: 0\n",
      "\n"
     ]
    }
   ],
   "source": [
    "from sklearn import tree\n",
    "columns_name=x.columns.tolist()\n",
    "tree_text=tree.export_text(D_T_model)\n",
    "print(tree_text)"
   ]
  },
  {
   "cell_type": "code",
   "execution_count": 37,
   "metadata": {},
   "outputs": [
    {
     "ename": "ExecutableNotFound",
     "evalue": "failed to execute WindowsPath('dot'), make sure the Graphviz executables are on your systems' PATH",
     "output_type": "error",
     "traceback": [
      "\u001b[1;31m---------------------------------------------------------------------------\u001b[0m",
      "\u001b[1;31mFileNotFoundError\u001b[0m                         Traceback (most recent call last)",
      "File \u001b[1;32mc:\\Users\\mohamed\\AI_env\\Lib\\site-packages\\graphviz\\backend\\execute.py:81\u001b[0m, in \u001b[0;36mrun_check\u001b[1;34m(cmd, input_lines, encoding, quiet, **kwargs)\u001b[0m\n\u001b[0;32m     80\u001b[0m     \u001b[39melse\u001b[39;00m:\n\u001b[1;32m---> 81\u001b[0m         proc \u001b[39m=\u001b[39m subprocess\u001b[39m.\u001b[39;49mrun(cmd, \u001b[39m*\u001b[39;49m\u001b[39m*\u001b[39;49mkwargs)\n\u001b[0;32m     82\u001b[0m \u001b[39mexcept\u001b[39;00m \u001b[39mOSError\u001b[39;00m \u001b[39mas\u001b[39;00m e:\n",
      "File \u001b[1;32m~\\AppData\\Local\\Programs\\Python\\Python311\\Lib\\subprocess.py:548\u001b[0m, in \u001b[0;36mrun\u001b[1;34m(input, capture_output, timeout, check, *popenargs, **kwargs)\u001b[0m\n\u001b[0;32m    546\u001b[0m     kwargs[\u001b[39m'\u001b[39m\u001b[39mstderr\u001b[39m\u001b[39m'\u001b[39m] \u001b[39m=\u001b[39m PIPE\n\u001b[1;32m--> 548\u001b[0m \u001b[39mwith\u001b[39;00m Popen(\u001b[39m*\u001b[39;49mpopenargs, \u001b[39m*\u001b[39;49m\u001b[39m*\u001b[39;49mkwargs) \u001b[39mas\u001b[39;00m process:\n\u001b[0;32m    549\u001b[0m     \u001b[39mtry\u001b[39;00m:\n",
      "File \u001b[1;32m~\\AppData\\Local\\Programs\\Python\\Python311\\Lib\\subprocess.py:1026\u001b[0m, in \u001b[0;36mPopen.__init__\u001b[1;34m(self, args, bufsize, executable, stdin, stdout, stderr, preexec_fn, close_fds, shell, cwd, env, universal_newlines, startupinfo, creationflags, restore_signals, start_new_session, pass_fds, user, group, extra_groups, encoding, errors, text, umask, pipesize, process_group)\u001b[0m\n\u001b[0;32m   1023\u001b[0m             \u001b[39mself\u001b[39m\u001b[39m.\u001b[39mstderr \u001b[39m=\u001b[39m io\u001b[39m.\u001b[39mTextIOWrapper(\u001b[39mself\u001b[39m\u001b[39m.\u001b[39mstderr,\n\u001b[0;32m   1024\u001b[0m                     encoding\u001b[39m=\u001b[39mencoding, errors\u001b[39m=\u001b[39merrors)\n\u001b[1;32m-> 1026\u001b[0m     \u001b[39mself\u001b[39;49m\u001b[39m.\u001b[39;49m_execute_child(args, executable, preexec_fn, close_fds,\n\u001b[0;32m   1027\u001b[0m                         pass_fds, cwd, env,\n\u001b[0;32m   1028\u001b[0m                         startupinfo, creationflags, shell,\n\u001b[0;32m   1029\u001b[0m                         p2cread, p2cwrite,\n\u001b[0;32m   1030\u001b[0m                         c2pread, c2pwrite,\n\u001b[0;32m   1031\u001b[0m                         errread, errwrite,\n\u001b[0;32m   1032\u001b[0m                         restore_signals,\n\u001b[0;32m   1033\u001b[0m                         gid, gids, uid, umask,\n\u001b[0;32m   1034\u001b[0m                         start_new_session, process_group)\n\u001b[0;32m   1035\u001b[0m \u001b[39mexcept\u001b[39;00m:\n\u001b[0;32m   1036\u001b[0m     \u001b[39m# Cleanup if the child failed starting.\u001b[39;00m\n",
      "File \u001b[1;32m~\\AppData\\Local\\Programs\\Python\\Python311\\Lib\\subprocess.py:1538\u001b[0m, in \u001b[0;36mPopen._execute_child\u001b[1;34m(self, args, executable, preexec_fn, close_fds, pass_fds, cwd, env, startupinfo, creationflags, shell, p2cread, p2cwrite, c2pread, c2pwrite, errread, errwrite, unused_restore_signals, unused_gid, unused_gids, unused_uid, unused_umask, unused_start_new_session, unused_process_group)\u001b[0m\n\u001b[0;32m   1537\u001b[0m \u001b[39mtry\u001b[39;00m:\n\u001b[1;32m-> 1538\u001b[0m     hp, ht, pid, tid \u001b[39m=\u001b[39m _winapi\u001b[39m.\u001b[39mCreateProcess(executable, args,\n\u001b[0;32m   1539\u001b[0m                              \u001b[39m# no special security\u001b[39;00m\n\u001b[0;32m   1540\u001b[0m                              \u001b[39mNone\u001b[39;00m, \u001b[39mNone\u001b[39;00m,\n\u001b[0;32m   1541\u001b[0m                              \u001b[39mint\u001b[39m(\u001b[39mnot\u001b[39;00m close_fds),\n\u001b[0;32m   1542\u001b[0m                              creationflags,\n\u001b[0;32m   1543\u001b[0m                              env,\n\u001b[0;32m   1544\u001b[0m                              cwd,\n\u001b[0;32m   1545\u001b[0m                              startupinfo)\n\u001b[0;32m   1546\u001b[0m \u001b[39mfinally\u001b[39;00m:\n\u001b[0;32m   1547\u001b[0m     \u001b[39m# Child is launched. Close the parent's copy of those pipe\u001b[39;00m\n\u001b[0;32m   1548\u001b[0m     \u001b[39m# handles that only the child should have open.  You need\u001b[39;00m\n\u001b[1;32m   (...)\u001b[0m\n\u001b[0;32m   1551\u001b[0m     \u001b[39m# pipe will not close when the child process exits and the\u001b[39;00m\n\u001b[0;32m   1552\u001b[0m     \u001b[39m# ReadFile will hang.\u001b[39;00m\n",
      "\u001b[1;31mFileNotFoundError\u001b[0m: [WinError 2] The system cannot find the file specified",
      "\nThe above exception was the direct cause of the following exception:\n",
      "\u001b[1;31mExecutableNotFound\u001b[0m                        Traceback (most recent call last)",
      "\u001b[1;32mc:\\Users\\mohamed\\AI_env\\titanic classfier.ipynb Cell 35\u001b[0m line \u001b[0;36m4\n\u001b[0;32m      <a href='vscode-notebook-cell:/c%3A/Users/mohamed/AI_env/titanic%20classfier.ipynb#X50sZmlsZQ%3D%3D?line=1'>2</a>\u001b[0m data_dot\u001b[39m=\u001b[39mtree\u001b[39m.\u001b[39mexport_graphviz(D_T_model,feature_names\u001b[39m=\u001b[39mcolumns_name,filled\u001b[39m=\u001b[39m\u001b[39mTrue\u001b[39;00m)\n\u001b[0;32m      <a href='vscode-notebook-cell:/c%3A/Users/mohamed/AI_env/titanic%20classfier.ipynb#X50sZmlsZQ%3D%3D?line=2'>3</a>\u001b[0m tree_figure\u001b[39m=\u001b[39mgraphviz\u001b[39m.\u001b[39mSource(data_dot,\u001b[39mformat\u001b[39m\u001b[39m=\u001b[39m\u001b[39m'\u001b[39m\u001b[39mpng\u001b[39m\u001b[39m'\u001b[39m)\n\u001b[1;32m----> <a href='vscode-notebook-cell:/c%3A/Users/mohamed/AI_env/titanic%20classfier.ipynb#X50sZmlsZQ%3D%3D?line=3'>4</a>\u001b[0m tree_figure\u001b[39m.\u001b[39;49mrender(\u001b[39m'\u001b[39;49m\u001b[39mTree\u001b[39;49m\u001b[39m'\u001b[39;49m)\n",
      "File \u001b[1;32mc:\\Users\\mohamed\\AI_env\\Lib\\site-packages\\graphviz\\_tools.py:171\u001b[0m, in \u001b[0;36mdeprecate_positional_args.<locals>.decorator.<locals>.wrapper\u001b[1;34m(*args, **kwargs)\u001b[0m\n\u001b[0;32m    162\u001b[0m     wanted \u001b[39m=\u001b[39m \u001b[39m'\u001b[39m\u001b[39m, \u001b[39m\u001b[39m'\u001b[39m\u001b[39m.\u001b[39mjoin(\u001b[39mf\u001b[39m\u001b[39m'\u001b[39m\u001b[39m{\u001b[39;00mname\u001b[39m}\u001b[39;00m\u001b[39m=\u001b[39m\u001b[39m{\u001b[39;00mvalue\u001b[39m!r}\u001b[39;00m\u001b[39m'\u001b[39m\n\u001b[0;32m    163\u001b[0m                        \u001b[39mfor\u001b[39;00m name, value \u001b[39min\u001b[39;00m deprecated\u001b[39m.\u001b[39mitems())\n\u001b[0;32m    164\u001b[0m     warnings\u001b[39m.\u001b[39mwarn(\u001b[39mf\u001b[39m\u001b[39m'\u001b[39m\u001b[39mThe signature of \u001b[39m\u001b[39m{\u001b[39;00mfunc\u001b[39m.\u001b[39m\u001b[39m__name__\u001b[39m\u001b[39m}\u001b[39;00m\u001b[39m will be reduced\u001b[39m\u001b[39m'\u001b[39m\n\u001b[0;32m    165\u001b[0m                   \u001b[39mf\u001b[39m\u001b[39m'\u001b[39m\u001b[39m to \u001b[39m\u001b[39m{\u001b[39;00msupported_number\u001b[39m}\u001b[39;00m\u001b[39m positional args\u001b[39m\u001b[39m'\u001b[39m\n\u001b[0;32m    166\u001b[0m                   \u001b[39mf\u001b[39m\u001b[39m'\u001b[39m\u001b[39m \u001b[39m\u001b[39m{\u001b[39;00m\u001b[39mlist\u001b[39m(supported)\u001b[39m}\u001b[39;00m\u001b[39m: pass \u001b[39m\u001b[39m{\u001b[39;00mwanted\u001b[39m}\u001b[39;00m\u001b[39m'\u001b[39m\n\u001b[0;32m    167\u001b[0m                   \u001b[39m'\u001b[39m\u001b[39m as keyword arg(s)\u001b[39m\u001b[39m'\u001b[39m,\n\u001b[0;32m    168\u001b[0m                   stacklevel\u001b[39m=\u001b[39mstacklevel,\n\u001b[0;32m    169\u001b[0m                   category\u001b[39m=\u001b[39mcategory)\n\u001b[1;32m--> 171\u001b[0m \u001b[39mreturn\u001b[39;00m func(\u001b[39m*\u001b[39;49margs, \u001b[39m*\u001b[39;49m\u001b[39m*\u001b[39;49mkwargs)\n",
      "File \u001b[1;32mc:\\Users\\mohamed\\AI_env\\Lib\\site-packages\\graphviz\\rendering.py:122\u001b[0m, in \u001b[0;36mRender.render\u001b[1;34m(self, filename, directory, view, cleanup, format, renderer, formatter, neato_no_op, quiet, quiet_view, outfile, engine, raise_if_result_exists, overwrite_source)\u001b[0m\n\u001b[0;32m    118\u001b[0m filepath \u001b[39m=\u001b[39m \u001b[39mself\u001b[39m\u001b[39m.\u001b[39msave(filename, directory\u001b[39m=\u001b[39mdirectory, skip_existing\u001b[39m=\u001b[39m\u001b[39mNone\u001b[39;00m)\n\u001b[0;32m    120\u001b[0m args\u001b[39m.\u001b[39mappend(filepath)\n\u001b[1;32m--> 122\u001b[0m rendered \u001b[39m=\u001b[39m \u001b[39mself\u001b[39;49m\u001b[39m.\u001b[39;49m_render(\u001b[39m*\u001b[39;49margs, \u001b[39m*\u001b[39;49m\u001b[39m*\u001b[39;49mkwargs)\n\u001b[0;32m    124\u001b[0m \u001b[39mif\u001b[39;00m cleanup:\n\u001b[0;32m    125\u001b[0m     log\u001b[39m.\u001b[39mdebug(\u001b[39m'\u001b[39m\u001b[39mdelete \u001b[39m\u001b[39m%r\u001b[39;00m\u001b[39m'\u001b[39m, filepath)\n",
      "File \u001b[1;32mc:\\Users\\mohamed\\AI_env\\Lib\\site-packages\\graphviz\\_tools.py:171\u001b[0m, in \u001b[0;36mdeprecate_positional_args.<locals>.decorator.<locals>.wrapper\u001b[1;34m(*args, **kwargs)\u001b[0m\n\u001b[0;32m    162\u001b[0m     wanted \u001b[39m=\u001b[39m \u001b[39m'\u001b[39m\u001b[39m, \u001b[39m\u001b[39m'\u001b[39m\u001b[39m.\u001b[39mjoin(\u001b[39mf\u001b[39m\u001b[39m'\u001b[39m\u001b[39m{\u001b[39;00mname\u001b[39m}\u001b[39;00m\u001b[39m=\u001b[39m\u001b[39m{\u001b[39;00mvalue\u001b[39m!r}\u001b[39;00m\u001b[39m'\u001b[39m\n\u001b[0;32m    163\u001b[0m                        \u001b[39mfor\u001b[39;00m name, value \u001b[39min\u001b[39;00m deprecated\u001b[39m.\u001b[39mitems())\n\u001b[0;32m    164\u001b[0m     warnings\u001b[39m.\u001b[39mwarn(\u001b[39mf\u001b[39m\u001b[39m'\u001b[39m\u001b[39mThe signature of \u001b[39m\u001b[39m{\u001b[39;00mfunc\u001b[39m.\u001b[39m\u001b[39m__name__\u001b[39m\u001b[39m}\u001b[39;00m\u001b[39m will be reduced\u001b[39m\u001b[39m'\u001b[39m\n\u001b[0;32m    165\u001b[0m                   \u001b[39mf\u001b[39m\u001b[39m'\u001b[39m\u001b[39m to \u001b[39m\u001b[39m{\u001b[39;00msupported_number\u001b[39m}\u001b[39;00m\u001b[39m positional args\u001b[39m\u001b[39m'\u001b[39m\n\u001b[0;32m    166\u001b[0m                   \u001b[39mf\u001b[39m\u001b[39m'\u001b[39m\u001b[39m \u001b[39m\u001b[39m{\u001b[39;00m\u001b[39mlist\u001b[39m(supported)\u001b[39m}\u001b[39;00m\u001b[39m: pass \u001b[39m\u001b[39m{\u001b[39;00mwanted\u001b[39m}\u001b[39;00m\u001b[39m'\u001b[39m\n\u001b[0;32m    167\u001b[0m                   \u001b[39m'\u001b[39m\u001b[39m as keyword arg(s)\u001b[39m\u001b[39m'\u001b[39m,\n\u001b[0;32m    168\u001b[0m                   stacklevel\u001b[39m=\u001b[39mstacklevel,\n\u001b[0;32m    169\u001b[0m                   category\u001b[39m=\u001b[39mcategory)\n\u001b[1;32m--> 171\u001b[0m \u001b[39mreturn\u001b[39;00m func(\u001b[39m*\u001b[39;49margs, \u001b[39m*\u001b[39;49m\u001b[39m*\u001b[39;49mkwargs)\n",
      "File \u001b[1;32mc:\\Users\\mohamed\\AI_env\\Lib\\site-packages\\graphviz\\backend\\rendering.py:324\u001b[0m, in \u001b[0;36mrender\u001b[1;34m(engine, format, filepath, renderer, formatter, neato_no_op, quiet, outfile, raise_if_result_exists, overwrite_filepath)\u001b[0m\n\u001b[0;32m    320\u001b[0m     \u001b[39mraise\u001b[39;00m exceptions\u001b[39m.\u001b[39mFileExistsError(\u001b[39mf\u001b[39m\u001b[39m'\u001b[39m\u001b[39moutput file exists: \u001b[39m\u001b[39m{\u001b[39;00mos\u001b[39m.\u001b[39mfspath(outfile)\u001b[39m!r}\u001b[39;00m\u001b[39m'\u001b[39m)\n\u001b[0;32m    322\u001b[0m cmd \u001b[39m+\u001b[39m\u001b[39m=\u001b[39m args\n\u001b[1;32m--> 324\u001b[0m execute\u001b[39m.\u001b[39;49mrun_check(cmd,\n\u001b[0;32m    325\u001b[0m                   cwd\u001b[39m=\u001b[39;49mfilepath\u001b[39m.\u001b[39;49mparent \u001b[39mif\u001b[39;49;00m filepath\u001b[39m.\u001b[39;49mparent\u001b[39m.\u001b[39;49mparts \u001b[39melse\u001b[39;49;00m \u001b[39mNone\u001b[39;49;00m,\n\u001b[0;32m    326\u001b[0m                   quiet\u001b[39m=\u001b[39;49mquiet,\n\u001b[0;32m    327\u001b[0m                   capture_output\u001b[39m=\u001b[39;49m\u001b[39mTrue\u001b[39;49;00m)\n\u001b[0;32m    329\u001b[0m \u001b[39mreturn\u001b[39;00m os\u001b[39m.\u001b[39mfspath(outfile)\n",
      "File \u001b[1;32mc:\\Users\\mohamed\\AI_env\\Lib\\site-packages\\graphviz\\backend\\execute.py:84\u001b[0m, in \u001b[0;36mrun_check\u001b[1;34m(cmd, input_lines, encoding, quiet, **kwargs)\u001b[0m\n\u001b[0;32m     82\u001b[0m \u001b[39mexcept\u001b[39;00m \u001b[39mOSError\u001b[39;00m \u001b[39mas\u001b[39;00m e:\n\u001b[0;32m     83\u001b[0m     \u001b[39mif\u001b[39;00m e\u001b[39m.\u001b[39merrno \u001b[39m==\u001b[39m errno\u001b[39m.\u001b[39mENOENT:\n\u001b[1;32m---> 84\u001b[0m         \u001b[39mraise\u001b[39;00m ExecutableNotFound(cmd) \u001b[39mfrom\u001b[39;00m \u001b[39me\u001b[39;00m\n\u001b[0;32m     85\u001b[0m     \u001b[39mraise\u001b[39;00m\n\u001b[0;32m     87\u001b[0m \u001b[39mif\u001b[39;00m \u001b[39mnot\u001b[39;00m quiet \u001b[39mand\u001b[39;00m proc\u001b[39m.\u001b[39mstderr:\n",
      "\u001b[1;31mExecutableNotFound\u001b[0m: failed to execute WindowsPath('dot'), make sure the Graphviz executables are on your systems' PATH"
     ]
    }
   ],
   "source": [
    "import graphviz\n",
    "data_dot=tree.export_graphviz(D_T_model,feature_names=columns_name,filled=True)\n",
    "tree_figure=graphviz.Source(data_dot,format='png')\n",
    "tree_figure.render('Tree')\n"
   ]
  },
  {
   "cell_type": "code",
   "execution_count": 38,
   "metadata": {},
   "outputs": [],
   "source": [
    "from sklearn.ensemble import RandomForestClassifier\n",
    "R_F_model=RandomForestClassifier()\n",
    "R_F_model.fit(x_train,y_train)\n",
    "y_pred_forrest=R_F_model.predict(x_test)\n"
   ]
  },
  {
   "cell_type": "code",
   "execution_count": 39,
   "metadata": {},
   "outputs": [
    {
     "name": "stdout",
     "output_type": "stream",
     "text": [
      "              precision    recall  f1-score   support\n",
      "\n",
      "           0       0.86      0.87      0.86       105\n",
      "           1       0.81      0.80      0.80        74\n",
      "\n",
      "    accuracy                           0.84       179\n",
      "   macro avg       0.83      0.83      0.83       179\n",
      "weighted avg       0.84      0.84      0.84       179\n",
      "\n"
     ]
    }
   ],
   "source": [
    "print(metrics.classification_report(y_test,y_pred_forrest))"
   ]
  },
  {
   "cell_type": "code",
   "execution_count": 40,
   "metadata": {},
   "outputs": [
    {
     "name": "stdout",
     "output_type": "stream",
     "text": [
      "accuracy = 83.80%\n",
      "recall = 79.73%\n",
      "precision = 80.82%\n",
      "f1_score = 80.27%\n"
     ]
    }
   ],
   "source": [
    "accuracy = metrics.accuracy_score(y_test,y_pred_forrest)\n",
    "recall = metrics.recall_score(y_test,y_pred_forrest)\n",
    "precision = metrics.precision_score(y_test,y_pred_forrest)\n",
    "f1_score = metrics.f1_score(y_test,y_pred_forrest)\n",
    "\n",
    "print(f'accuracy = {accuracy:0.2%}')\n",
    "print(f'recall = {recall:0.2%}')\n",
    "print(f'precision = {precision:0.2%}')\n",
    "print(f'f1_score = {f1_score:0.2%}')"
   ]
  },
  {
   "cell_type": "markdown",
   "metadata": {},
   "source": [
    "#Random forrest give us the best performance\n",
    "        \n",
    "          linear logistic    kNN model       SVM model        D_tree       Random_forrest\n",
    "accuracy  78.21%             74.30%           78.21%            76.54%        83.8% \n",
    "recall    55.41%             70.27%           70.27%            70.27%        79.73%\n",
    "precision 75.93%             75.36%           75.36%            72.22%        80.82%\n",
    "f1_score  64.06%             72.36%           72.73%            71.23%        80.27%\n",
    "        "
   ]
  },
  {
   "cell_type": "markdown",
   "metadata": {},
   "source": [
    "Using Ensempling"
   ]
  },
  {
   "cell_type": "code",
   "execution_count": 62,
   "metadata": {},
   "outputs": [
    {
     "name": "stderr",
     "output_type": "stream",
     "text": [
      "c:\\Users\\mohamed\\AI_env\\Lib\\site-packages\\sklearn\\linear_model\\_logistic.py:460: ConvergenceWarning: lbfgs failed to converge (status=1):\n",
      "STOP: TOTAL NO. of ITERATIONS REACHED LIMIT.\n",
      "\n",
      "Increase the number of iterations (max_iter) or scale the data as shown in:\n",
      "    https://scikit-learn.org/stable/modules/preprocessing.html\n",
      "Please also refer to the documentation for alternative solver options:\n",
      "    https://scikit-learn.org/stable/modules/linear_model.html#logistic-regression\n",
      "  n_iter_i = _check_optimize_result(\n"
     ]
    },
    {
     "data": {
      "text/html": [
       "<style>#sk-container-id-8 {color: black;}#sk-container-id-8 pre{padding: 0;}#sk-container-id-8 div.sk-toggleable {background-color: white;}#sk-container-id-8 label.sk-toggleable__label {cursor: pointer;display: block;width: 100%;margin-bottom: 0;padding: 0.3em;box-sizing: border-box;text-align: center;}#sk-container-id-8 label.sk-toggleable__label-arrow:before {content: \"▸\";float: left;margin-right: 0.25em;color: #696969;}#sk-container-id-8 label.sk-toggleable__label-arrow:hover:before {color: black;}#sk-container-id-8 div.sk-estimator:hover label.sk-toggleable__label-arrow:before {color: black;}#sk-container-id-8 div.sk-toggleable__content {max-height: 0;max-width: 0;overflow: hidden;text-align: left;background-color: #f0f8ff;}#sk-container-id-8 div.sk-toggleable__content pre {margin: 0.2em;color: black;border-radius: 0.25em;background-color: #f0f8ff;}#sk-container-id-8 input.sk-toggleable__control:checked~div.sk-toggleable__content {max-height: 200px;max-width: 100%;overflow: auto;}#sk-container-id-8 input.sk-toggleable__control:checked~label.sk-toggleable__label-arrow:before {content: \"▾\";}#sk-container-id-8 div.sk-estimator input.sk-toggleable__control:checked~label.sk-toggleable__label {background-color: #d4ebff;}#sk-container-id-8 div.sk-label input.sk-toggleable__control:checked~label.sk-toggleable__label {background-color: #d4ebff;}#sk-container-id-8 input.sk-hidden--visually {border: 0;clip: rect(1px 1px 1px 1px);clip: rect(1px, 1px, 1px, 1px);height: 1px;margin: -1px;overflow: hidden;padding: 0;position: absolute;width: 1px;}#sk-container-id-8 div.sk-estimator {font-family: monospace;background-color: #f0f8ff;border: 1px dotted black;border-radius: 0.25em;box-sizing: border-box;margin-bottom: 0.5em;}#sk-container-id-8 div.sk-estimator:hover {background-color: #d4ebff;}#sk-container-id-8 div.sk-parallel-item::after {content: \"\";width: 100%;border-bottom: 1px solid gray;flex-grow: 1;}#sk-container-id-8 div.sk-label:hover label.sk-toggleable__label {background-color: #d4ebff;}#sk-container-id-8 div.sk-serial::before {content: \"\";position: absolute;border-left: 1px solid gray;box-sizing: border-box;top: 0;bottom: 0;left: 50%;z-index: 0;}#sk-container-id-8 div.sk-serial {display: flex;flex-direction: column;align-items: center;background-color: white;padding-right: 0.2em;padding-left: 0.2em;position: relative;}#sk-container-id-8 div.sk-item {position: relative;z-index: 1;}#sk-container-id-8 div.sk-parallel {display: flex;align-items: stretch;justify-content: center;background-color: white;position: relative;}#sk-container-id-8 div.sk-item::before, #sk-container-id-8 div.sk-parallel-item::before {content: \"\";position: absolute;border-left: 1px solid gray;box-sizing: border-box;top: 0;bottom: 0;left: 50%;z-index: -1;}#sk-container-id-8 div.sk-parallel-item {display: flex;flex-direction: column;z-index: 1;position: relative;background-color: white;}#sk-container-id-8 div.sk-parallel-item:first-child::after {align-self: flex-end;width: 50%;}#sk-container-id-8 div.sk-parallel-item:last-child::after {align-self: flex-start;width: 50%;}#sk-container-id-8 div.sk-parallel-item:only-child::after {width: 0;}#sk-container-id-8 div.sk-dashed-wrapped {border: 1px dashed gray;margin: 0 0.4em 0.5em 0.4em;box-sizing: border-box;padding-bottom: 0.4em;background-color: white;}#sk-container-id-8 div.sk-label label {font-family: monospace;font-weight: bold;display: inline-block;line-height: 1.2em;}#sk-container-id-8 div.sk-label-container {text-align: center;}#sk-container-id-8 div.sk-container {/* jupyter's `normalize.less` sets `[hidden] { display: none; }` but bootstrap.min.css set `[hidden] { display: none !important; }` so we also need the `!important` here to be able to override the default hidden behavior on the sphinx rendered scikit-learn.org. See: https://github.com/scikit-learn/scikit-learn/issues/21755 */display: inline-block !important;position: relative;}#sk-container-id-8 div.sk-text-repr-fallback {display: none;}</style><div id=\"sk-container-id-8\" class=\"sk-top-container\"><div class=\"sk-text-repr-fallback\"><pre>VotingClassifier(estimators=[(&#x27;OT&#x27;, LogisticRegression(max_iter=50)),\n",
       "                             (&#x27;SVM&#x27;, SVC()), (&#x27;RF&#x27;, RandomForestClassifier())],\n",
       "                 weights=[4, 4, 8])</pre><b>In a Jupyter environment, please rerun this cell to show the HTML representation or trust the notebook. <br />On GitHub, the HTML representation is unable to render, please try loading this page with nbviewer.org.</b></div><div class=\"sk-container\" hidden><div class=\"sk-item sk-dashed-wrapped\"><div class=\"sk-label-container\"><div class=\"sk-label sk-toggleable\"><input class=\"sk-toggleable__control sk-hidden--visually\" id=\"sk-estimator-id-26\" type=\"checkbox\" ><label for=\"sk-estimator-id-26\" class=\"sk-toggleable__label sk-toggleable__label-arrow\">VotingClassifier</label><div class=\"sk-toggleable__content\"><pre>VotingClassifier(estimators=[(&#x27;OT&#x27;, LogisticRegression(max_iter=50)),\n",
       "                             (&#x27;SVM&#x27;, SVC()), (&#x27;RF&#x27;, RandomForestClassifier())],\n",
       "                 weights=[4, 4, 8])</pre></div></div></div><div class=\"sk-parallel\"><div class=\"sk-parallel-item\"><div class=\"sk-item\"><div class=\"sk-label-container\"><div class=\"sk-label sk-toggleable\"><label>OT</label></div></div><div class=\"sk-serial\"><div class=\"sk-item\"><div class=\"sk-estimator sk-toggleable\"><input class=\"sk-toggleable__control sk-hidden--visually\" id=\"sk-estimator-id-27\" type=\"checkbox\" ><label for=\"sk-estimator-id-27\" class=\"sk-toggleable__label sk-toggleable__label-arrow\">LogisticRegression</label><div class=\"sk-toggleable__content\"><pre>LogisticRegression(max_iter=50)</pre></div></div></div></div></div></div><div class=\"sk-parallel-item\"><div class=\"sk-item\"><div class=\"sk-label-container\"><div class=\"sk-label sk-toggleable\"><label>SVM</label></div></div><div class=\"sk-serial\"><div class=\"sk-item\"><div class=\"sk-estimator sk-toggleable\"><input class=\"sk-toggleable__control sk-hidden--visually\" id=\"sk-estimator-id-28\" type=\"checkbox\" ><label for=\"sk-estimator-id-28\" class=\"sk-toggleable__label sk-toggleable__label-arrow\">SVC</label><div class=\"sk-toggleable__content\"><pre>SVC()</pre></div></div></div></div></div></div><div class=\"sk-parallel-item\"><div class=\"sk-item\"><div class=\"sk-label-container\"><div class=\"sk-label sk-toggleable\"><label>RF</label></div></div><div class=\"sk-serial\"><div class=\"sk-item\"><div class=\"sk-estimator sk-toggleable\"><input class=\"sk-toggleable__control sk-hidden--visually\" id=\"sk-estimator-id-29\" type=\"checkbox\" ><label for=\"sk-estimator-id-29\" class=\"sk-toggleable__label sk-toggleable__label-arrow\">RandomForestClassifier</label><div class=\"sk-toggleable__content\"><pre>RandomForestClassifier()</pre></div></div></div></div></div></div></div></div></div></div>"
      ],
      "text/plain": [
       "VotingClassifier(estimators=[('OT', LogisticRegression(max_iter=50)),\n",
       "                             ('SVM', SVC()), ('RF', RandomForestClassifier())],\n",
       "                 weights=[4, 4, 8])"
      ]
     },
     "execution_count": 62,
     "metadata": {},
     "output_type": "execute_result"
    }
   ],
   "source": [
    "from sklearn import ensemble\n",
    "from sklearn.ensemble import VotingClassifier\n",
    "model1=DecisionTreeClassifier()\n",
    "model2=SVC()\n",
    "model3=RandomForestClassifier()\n",
    "ensemble_model=VotingClassifier(\n",
    "    estimators=[('OT',model),('SVM',model2),('RF',model3)],\n",
    "    weights=[4,4,8]\n",
    ")\n",
    "ensemble_model.fit(x_train,y_train)\n"
   ]
  },
  {
   "cell_type": "code",
   "execution_count": 63,
   "metadata": {},
   "outputs": [
    {
     "name": "stdout",
     "output_type": "stream",
     "text": [
      "              precision    recall  f1-score   support\n",
      "\n",
      "           0       0.79      0.89      0.83       105\n",
      "           1       0.80      0.66      0.73        74\n",
      "\n",
      "    accuracy                           0.79       179\n",
      "   macro avg       0.80      0.77      0.78       179\n",
      "weighted avg       0.79      0.79      0.79       179\n",
      "\n"
     ]
    }
   ],
   "source": [
    "y_pred_vot=ensemble_model.predict(x_test)\n",
    "print(metrics.classification_report(y_test,y_pred_vot))"
   ]
  },
  {
   "cell_type": "code",
   "execution_count": 64,
   "metadata": {},
   "outputs": [
    {
     "name": "stdout",
     "output_type": "stream",
     "text": [
      "accuracy = 83.80%\n",
      "recall = 79.73%\n",
      "precision = 80.82%\n",
      "f1_score = 80.27%\n"
     ]
    }
   ],
   "source": [
    "accuracy = metrics.accuracy_score(y_test,y_pred_forrest)\n",
    "recall = metrics.recall_score(y_test,y_pred_forrest)\n",
    "precision = metrics.precision_score(y_test,y_pred_forrest)\n",
    "f1_score = metrics.f1_score(y_test,y_pred_forrest)\n",
    "print(f'accuracy = {accuracy:0.2%}')\n",
    "print(f'recall = {recall:0.2%}')\n",
    "print(f'precision = {precision:0.2%}')\n",
    "print(f'f1_score = {f1_score:0.2%}')"
   ]
  },
  {
   "cell_type": "markdown",
   "metadata": {},
   "source": [
    "THE same performance as Random Forrest(ensemple model)"
   ]
  },
  {
   "cell_type": "code",
   "execution_count": null,
   "metadata": {},
   "outputs": [],
   "source": []
  },
  {
   "cell_type": "code",
   "execution_count": null,
   "metadata": {},
   "outputs": [],
   "source": []
  }
 ],
 "metadata": {
  "kernelspec": {
   "display_name": "AI_env",
   "language": "python",
   "name": "python3"
  },
  "language_info": {
   "codemirror_mode": {
    "name": "ipython",
    "version": 3
   },
   "file_extension": ".py",
   "mimetype": "text/x-python",
   "name": "python",
   "nbconvert_exporter": "python",
   "pygments_lexer": "ipython3",
   "version": "3.11.5"
  }
 },
 "nbformat": 4,
 "nbformat_minor": 2
}
